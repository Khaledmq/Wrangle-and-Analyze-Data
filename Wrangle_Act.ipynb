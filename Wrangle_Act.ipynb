{
 "cells": [
  {
   "cell_type": "markdown",
   "metadata": {},
   "source": [
    "# WRANGLE and ANALYZE Data\n"
   ]
  },
  {
   "cell_type": "markdown",
   "metadata": {},
   "source": [
    "### About WE RATE DOGS :\n",
    "We'll be wrangling (and analyzing and visualizing) the tweet archive of Twitter user @dog rates, also known as WeRateDogs. WeRateDogs is a Twitter account that rates people's dogs and includes a funny comment about the dog. The denominator of these ratings is almost always ten. But what about the denominators? It is almost always greater than ten. 11/10, 12/10, 13/10, etc. Why? Because \"Brent has good dogs.\" WeRateDogs has over 4 million followers and has been featured in international media.\n",
    "\n",
    "\n",
    "WeRateDogs downloaded and sent their Twitter archive to Udacity for use in this project. This archive includes basic tweet data (tweet ID, timestamp, text, and so on) for all 5000+ of their tweets as of August 1, 2017."
   ]
  },
  {
   "cell_type": "markdown",
   "metadata": {},
   "source": [
    "Main tasks in this project are as follows:\n",
    "\n",
    "1. Data wrangling, which consists of:\n",
    "\n",
    " - Gathering data\n",
    " - Assessing data\n",
    " - Cleaning data\n",
    "\n",
    "\n",
    "2. Storing, analyzing, and visualizing your wrangled data\n",
    "\n",
    "\n",
    "3. Reporting on 1) your data wrangling efforts and 2) your data analyses and visualizations"
   ]
  },
  {
   "cell_type": "code",
   "execution_count": 3,
   "metadata": {},
   "outputs": [
    {
     "name": "stdout",
     "output_type": "stream",
     "text": [
      "Requirement already satisfied: tweepy in /opt/conda/lib/python3.6/site-packages (3.5.0)\n",
      "Requirement already satisfied: requests>=2.4.3 in /opt/conda/lib/python3.6/site-packages (from tweepy) (2.18.4)\n",
      "Requirement already satisfied: requests_oauthlib>=0.4.1 in /opt/conda/lib/python3.6/site-packages (from tweepy) (0.8.0)\n",
      "Requirement already satisfied: six>=1.7.3 in /opt/conda/lib/python3.6/site-packages (from tweepy) (1.11.0)\n",
      "Requirement already satisfied: chardet<3.1.0,>=3.0.2 in /opt/conda/lib/python3.6/site-packages (from requests>=2.4.3->tweepy) (3.0.4)\n",
      "Requirement already satisfied: idna<2.7,>=2.5 in /opt/conda/lib/python3.6/site-packages (from requests>=2.4.3->tweepy) (2.6)\n",
      "Requirement already satisfied: urllib3<1.23,>=1.21.1 in /opt/conda/lib/python3.6/site-packages (from requests>=2.4.3->tweepy) (1.22)\n",
      "Requirement already satisfied: certifi>=2017.4.17 in /opt/conda/lib/python3.6/site-packages (from requests>=2.4.3->tweepy) (2019.11.28)\n",
      "Requirement already satisfied: oauthlib>=0.6.2 in /opt/conda/lib/python3.6/site-packages (from requests_oauthlib>=0.4.1->tweepy) (2.0.6)\n",
      "Collecting config\n",
      "  Downloading https://files.pythonhosted.org/packages/59/3c/0dba475f1833b475e292d7c6b19464a206a18498979c2d5bfb37ca5ed27c/config-0.5.1-py2.py3-none-any.whl\n",
      "Installing collected packages: config\n",
      "Successfully installed config-0.5.1\n"
     ]
    }
   ],
   "source": [
    "import sys\n",
    "!{sys.executable} -m pip install tweepy\n",
    "!{sys.executable} -m pip install config"
   ]
  },
  {
   "cell_type": "code",
   "execution_count": null,
   "metadata": {},
   "outputs": [],
   "source": []
  },
  {
   "cell_type": "code",
   "execution_count": 4,
   "metadata": {
    "nbpresent": {
     "id": "75dd6be8-395a-409f-a9e3-1b8266b9c0c7"
    }
   },
   "outputs": [],
   "source": [
    "# Iniallizing : Importing the required Libraries\n",
    "\n",
    "import pandas as pd\n",
    "import numpy as np\n",
    "import matplotlib.pyplot as plt\n",
    "%matplotlib inline\n",
    "import matplotlib.dates as mdates\n",
    "import seaborn as sns\n",
    "\n",
    "\n",
    "from numpy import median\n",
    "import requests\n",
    "import tweepy\n",
    "import os\n",
    "import json\n",
    "import sys\n",
    "\n",
    "\n",
    "from sklearn.feature_extraction.stop_words import ENGLISH_STOP_WORDS\n",
    "from datetime import datetime\n",
    "from config import Config\n",
    "import re"
   ]
  },
  {
   "cell_type": "code",
   "execution_count": null,
   "metadata": {},
   "outputs": [],
   "source": []
  },
  {
   "cell_type": "code",
   "execution_count": null,
   "metadata": {},
   "outputs": [],
   "source": []
  },
  {
   "cell_type": "markdown",
   "metadata": {
    "nbpresent": {
     "id": "0d05c065-769b-49cb-91f5-464ab4923b96"
    }
   },
   "source": [
    "# 1. Gathering Data"
   ]
  },
  {
   "cell_type": "code",
   "execution_count": 5,
   "metadata": {
    "nbpresent": {
     "id": "4830cdf7-8354-4ecc-b6c9-b3752cdab060"
    }
   },
   "outputs": [
    {
     "data": {
      "text/html": [
       "<div>\n",
       "<style scoped>\n",
       "    .dataframe tbody tr th:only-of-type {\n",
       "        vertical-align: middle;\n",
       "    }\n",
       "\n",
       "    .dataframe tbody tr th {\n",
       "        vertical-align: top;\n",
       "    }\n",
       "\n",
       "    .dataframe thead th {\n",
       "        text-align: right;\n",
       "    }\n",
       "</style>\n",
       "<table border=\"1\" class=\"dataframe\">\n",
       "  <thead>\n",
       "    <tr style=\"text-align: right;\">\n",
       "      <th></th>\n",
       "      <th>tweet_id</th>\n",
       "      <th>in_reply_to_status_id</th>\n",
       "      <th>in_reply_to_user_id</th>\n",
       "      <th>timestamp</th>\n",
       "      <th>source</th>\n",
       "      <th>text</th>\n",
       "      <th>retweeted_status_id</th>\n",
       "      <th>retweeted_status_user_id</th>\n",
       "      <th>retweeted_status_timestamp</th>\n",
       "      <th>expanded_urls</th>\n",
       "      <th>rating_numerator</th>\n",
       "      <th>rating_denominator</th>\n",
       "      <th>name</th>\n",
       "      <th>doggo</th>\n",
       "      <th>floofer</th>\n",
       "      <th>pupper</th>\n",
       "      <th>puppo</th>\n",
       "    </tr>\n",
       "  </thead>\n",
       "  <tbody>\n",
       "    <tr>\n",
       "      <th>0</th>\n",
       "      <td>892420643555336193</td>\n",
       "      <td>NaN</td>\n",
       "      <td>NaN</td>\n",
       "      <td>2017-08-01 16:23:56 +0000</td>\n",
       "      <td>&lt;a href=\"http://twitter.com/download/iphone\" r...</td>\n",
       "      <td>This is Phineas. He's a mystical boy. Only eve...</td>\n",
       "      <td>NaN</td>\n",
       "      <td>NaN</td>\n",
       "      <td>NaN</td>\n",
       "      <td>https://twitter.com/dog_rates/status/892420643...</td>\n",
       "      <td>13</td>\n",
       "      <td>10</td>\n",
       "      <td>Phineas</td>\n",
       "      <td>None</td>\n",
       "      <td>None</td>\n",
       "      <td>None</td>\n",
       "      <td>None</td>\n",
       "    </tr>\n",
       "    <tr>\n",
       "      <th>1</th>\n",
       "      <td>892177421306343426</td>\n",
       "      <td>NaN</td>\n",
       "      <td>NaN</td>\n",
       "      <td>2017-08-01 00:17:27 +0000</td>\n",
       "      <td>&lt;a href=\"http://twitter.com/download/iphone\" r...</td>\n",
       "      <td>This is Tilly. She's just checking pup on you....</td>\n",
       "      <td>NaN</td>\n",
       "      <td>NaN</td>\n",
       "      <td>NaN</td>\n",
       "      <td>https://twitter.com/dog_rates/status/892177421...</td>\n",
       "      <td>13</td>\n",
       "      <td>10</td>\n",
       "      <td>Tilly</td>\n",
       "      <td>None</td>\n",
       "      <td>None</td>\n",
       "      <td>None</td>\n",
       "      <td>None</td>\n",
       "    </tr>\n",
       "    <tr>\n",
       "      <th>2</th>\n",
       "      <td>891815181378084864</td>\n",
       "      <td>NaN</td>\n",
       "      <td>NaN</td>\n",
       "      <td>2017-07-31 00:18:03 +0000</td>\n",
       "      <td>&lt;a href=\"http://twitter.com/download/iphone\" r...</td>\n",
       "      <td>This is Archie. He is a rare Norwegian Pouncin...</td>\n",
       "      <td>NaN</td>\n",
       "      <td>NaN</td>\n",
       "      <td>NaN</td>\n",
       "      <td>https://twitter.com/dog_rates/status/891815181...</td>\n",
       "      <td>12</td>\n",
       "      <td>10</td>\n",
       "      <td>Archie</td>\n",
       "      <td>None</td>\n",
       "      <td>None</td>\n",
       "      <td>None</td>\n",
       "      <td>None</td>\n",
       "    </tr>\n",
       "    <tr>\n",
       "      <th>3</th>\n",
       "      <td>891689557279858688</td>\n",
       "      <td>NaN</td>\n",
       "      <td>NaN</td>\n",
       "      <td>2017-07-30 15:58:51 +0000</td>\n",
       "      <td>&lt;a href=\"http://twitter.com/download/iphone\" r...</td>\n",
       "      <td>This is Darla. She commenced a snooze mid meal...</td>\n",
       "      <td>NaN</td>\n",
       "      <td>NaN</td>\n",
       "      <td>NaN</td>\n",
       "      <td>https://twitter.com/dog_rates/status/891689557...</td>\n",
       "      <td>13</td>\n",
       "      <td>10</td>\n",
       "      <td>Darla</td>\n",
       "      <td>None</td>\n",
       "      <td>None</td>\n",
       "      <td>None</td>\n",
       "      <td>None</td>\n",
       "    </tr>\n",
       "    <tr>\n",
       "      <th>4</th>\n",
       "      <td>891327558926688256</td>\n",
       "      <td>NaN</td>\n",
       "      <td>NaN</td>\n",
       "      <td>2017-07-29 16:00:24 +0000</td>\n",
       "      <td>&lt;a href=\"http://twitter.com/download/iphone\" r...</td>\n",
       "      <td>This is Franklin. He would like you to stop ca...</td>\n",
       "      <td>NaN</td>\n",
       "      <td>NaN</td>\n",
       "      <td>NaN</td>\n",
       "      <td>https://twitter.com/dog_rates/status/891327558...</td>\n",
       "      <td>12</td>\n",
       "      <td>10</td>\n",
       "      <td>Franklin</td>\n",
       "      <td>None</td>\n",
       "      <td>None</td>\n",
       "      <td>None</td>\n",
       "      <td>None</td>\n",
       "    </tr>\n",
       "  </tbody>\n",
       "</table>\n",
       "</div>"
      ],
      "text/plain": [
       "             tweet_id  in_reply_to_status_id  in_reply_to_user_id  \\\n",
       "0  892420643555336193                    NaN                  NaN   \n",
       "1  892177421306343426                    NaN                  NaN   \n",
       "2  891815181378084864                    NaN                  NaN   \n",
       "3  891689557279858688                    NaN                  NaN   \n",
       "4  891327558926688256                    NaN                  NaN   \n",
       "\n",
       "                   timestamp  \\\n",
       "0  2017-08-01 16:23:56 +0000   \n",
       "1  2017-08-01 00:17:27 +0000   \n",
       "2  2017-07-31 00:18:03 +0000   \n",
       "3  2017-07-30 15:58:51 +0000   \n",
       "4  2017-07-29 16:00:24 +0000   \n",
       "\n",
       "                                              source  \\\n",
       "0  <a href=\"http://twitter.com/download/iphone\" r...   \n",
       "1  <a href=\"http://twitter.com/download/iphone\" r...   \n",
       "2  <a href=\"http://twitter.com/download/iphone\" r...   \n",
       "3  <a href=\"http://twitter.com/download/iphone\" r...   \n",
       "4  <a href=\"http://twitter.com/download/iphone\" r...   \n",
       "\n",
       "                                                text  retweeted_status_id  \\\n",
       "0  This is Phineas. He's a mystical boy. Only eve...                  NaN   \n",
       "1  This is Tilly. She's just checking pup on you....                  NaN   \n",
       "2  This is Archie. He is a rare Norwegian Pouncin...                  NaN   \n",
       "3  This is Darla. She commenced a snooze mid meal...                  NaN   \n",
       "4  This is Franklin. He would like you to stop ca...                  NaN   \n",
       "\n",
       "   retweeted_status_user_id retweeted_status_timestamp  \\\n",
       "0                       NaN                        NaN   \n",
       "1                       NaN                        NaN   \n",
       "2                       NaN                        NaN   \n",
       "3                       NaN                        NaN   \n",
       "4                       NaN                        NaN   \n",
       "\n",
       "                                       expanded_urls  rating_numerator  \\\n",
       "0  https://twitter.com/dog_rates/status/892420643...                13   \n",
       "1  https://twitter.com/dog_rates/status/892177421...                13   \n",
       "2  https://twitter.com/dog_rates/status/891815181...                12   \n",
       "3  https://twitter.com/dog_rates/status/891689557...                13   \n",
       "4  https://twitter.com/dog_rates/status/891327558...                12   \n",
       "\n",
       "   rating_denominator      name doggo floofer pupper puppo  \n",
       "0                  10   Phineas  None    None   None  None  \n",
       "1                  10     Tilly  None    None   None  None  \n",
       "2                  10    Archie  None    None   None  None  \n",
       "3                  10     Darla  None    None   None  None  \n",
       "4                  10  Franklin  None    None   None  None  "
      ]
     },
     "execution_count": 5,
     "metadata": {},
     "output_type": "execute_result"
    }
   ],
   "source": [
    "# Collecting Data from the Twitter Archive\n",
    "archive = pd.read_csv('/home/workspace/twitter-archive-enhanced.csv')\n",
    "archive.head()"
   ]
  },
  {
   "cell_type": "code",
   "execution_count": 6,
   "metadata": {
    "nbpresent": {
     "id": "c3ff91ee-895b-4783-90e5-99848ee5b6e6"
    }
   },
   "outputs": [],
   "source": [
    "#Retreiving the image predictions from Udacity server\n",
    "retrieve = requests.get('https://d17h27t6h515a5.cloudfront.net/topher/2017/August/599fd2ad_image-predictions/image-predictions.tsv')"
   ]
  },
  {
   "cell_type": "code",
   "execution_count": 7,
   "metadata": {},
   "outputs": [],
   "source": [
    "# Saving the obtained data \n",
    "with open('/home/workspace/image-predictions.tsv', 'wb') as file:\n",
    "    file.write(retrieve.content)"
   ]
  },
  {
   "cell_type": "code",
   "execution_count": 8,
   "metadata": {},
   "outputs": [
    {
     "data": {
      "text/html": [
       "<div>\n",
       "<style scoped>\n",
       "    .dataframe tbody tr th:only-of-type {\n",
       "        vertical-align: middle;\n",
       "    }\n",
       "\n",
       "    .dataframe tbody tr th {\n",
       "        vertical-align: top;\n",
       "    }\n",
       "\n",
       "    .dataframe thead th {\n",
       "        text-align: right;\n",
       "    }\n",
       "</style>\n",
       "<table border=\"1\" class=\"dataframe\">\n",
       "  <thead>\n",
       "    <tr style=\"text-align: right;\">\n",
       "      <th></th>\n",
       "      <th>tweet_id</th>\n",
       "      <th>jpg_url</th>\n",
       "      <th>img_num</th>\n",
       "      <th>p1</th>\n",
       "      <th>p1_conf</th>\n",
       "      <th>p1_dog</th>\n",
       "      <th>p2</th>\n",
       "      <th>p2_conf</th>\n",
       "      <th>p2_dog</th>\n",
       "      <th>p3</th>\n",
       "      <th>p3_conf</th>\n",
       "      <th>p3_dog</th>\n",
       "    </tr>\n",
       "  </thead>\n",
       "  <tbody>\n",
       "    <tr>\n",
       "      <th>0</th>\n",
       "      <td>666020888022790149</td>\n",
       "      <td>https://pbs.twimg.com/media/CT4udn0WwAA0aMy.jpg</td>\n",
       "      <td>1</td>\n",
       "      <td>Welsh_springer_spaniel</td>\n",
       "      <td>0.465074</td>\n",
       "      <td>True</td>\n",
       "      <td>collie</td>\n",
       "      <td>0.156665</td>\n",
       "      <td>True</td>\n",
       "      <td>Shetland_sheepdog</td>\n",
       "      <td>0.061428</td>\n",
       "      <td>True</td>\n",
       "    </tr>\n",
       "    <tr>\n",
       "      <th>1</th>\n",
       "      <td>666029285002620928</td>\n",
       "      <td>https://pbs.twimg.com/media/CT42GRgUYAA5iDo.jpg</td>\n",
       "      <td>1</td>\n",
       "      <td>redbone</td>\n",
       "      <td>0.506826</td>\n",
       "      <td>True</td>\n",
       "      <td>miniature_pinscher</td>\n",
       "      <td>0.074192</td>\n",
       "      <td>True</td>\n",
       "      <td>Rhodesian_ridgeback</td>\n",
       "      <td>0.072010</td>\n",
       "      <td>True</td>\n",
       "    </tr>\n",
       "    <tr>\n",
       "      <th>2</th>\n",
       "      <td>666033412701032449</td>\n",
       "      <td>https://pbs.twimg.com/media/CT4521TWwAEvMyu.jpg</td>\n",
       "      <td>1</td>\n",
       "      <td>German_shepherd</td>\n",
       "      <td>0.596461</td>\n",
       "      <td>True</td>\n",
       "      <td>malinois</td>\n",
       "      <td>0.138584</td>\n",
       "      <td>True</td>\n",
       "      <td>bloodhound</td>\n",
       "      <td>0.116197</td>\n",
       "      <td>True</td>\n",
       "    </tr>\n",
       "    <tr>\n",
       "      <th>3</th>\n",
       "      <td>666044226329800704</td>\n",
       "      <td>https://pbs.twimg.com/media/CT5Dr8HUEAA-lEu.jpg</td>\n",
       "      <td>1</td>\n",
       "      <td>Rhodesian_ridgeback</td>\n",
       "      <td>0.408143</td>\n",
       "      <td>True</td>\n",
       "      <td>redbone</td>\n",
       "      <td>0.360687</td>\n",
       "      <td>True</td>\n",
       "      <td>miniature_pinscher</td>\n",
       "      <td>0.222752</td>\n",
       "      <td>True</td>\n",
       "    </tr>\n",
       "    <tr>\n",
       "      <th>4</th>\n",
       "      <td>666049248165822465</td>\n",
       "      <td>https://pbs.twimg.com/media/CT5IQmsXIAAKY4A.jpg</td>\n",
       "      <td>1</td>\n",
       "      <td>miniature_pinscher</td>\n",
       "      <td>0.560311</td>\n",
       "      <td>True</td>\n",
       "      <td>Rottweiler</td>\n",
       "      <td>0.243682</td>\n",
       "      <td>True</td>\n",
       "      <td>Doberman</td>\n",
       "      <td>0.154629</td>\n",
       "      <td>True</td>\n",
       "    </tr>\n",
       "  </tbody>\n",
       "</table>\n",
       "</div>"
      ],
      "text/plain": [
       "             tweet_id                                          jpg_url  \\\n",
       "0  666020888022790149  https://pbs.twimg.com/media/CT4udn0WwAA0aMy.jpg   \n",
       "1  666029285002620928  https://pbs.twimg.com/media/CT42GRgUYAA5iDo.jpg   \n",
       "2  666033412701032449  https://pbs.twimg.com/media/CT4521TWwAEvMyu.jpg   \n",
       "3  666044226329800704  https://pbs.twimg.com/media/CT5Dr8HUEAA-lEu.jpg   \n",
       "4  666049248165822465  https://pbs.twimg.com/media/CT5IQmsXIAAKY4A.jpg   \n",
       "\n",
       "   img_num                      p1   p1_conf  p1_dog                  p2  \\\n",
       "0        1  Welsh_springer_spaniel  0.465074    True              collie   \n",
       "1        1                 redbone  0.506826    True  miniature_pinscher   \n",
       "2        1         German_shepherd  0.596461    True            malinois   \n",
       "3        1     Rhodesian_ridgeback  0.408143    True             redbone   \n",
       "4        1      miniature_pinscher  0.560311    True          Rottweiler   \n",
       "\n",
       "    p2_conf  p2_dog                   p3   p3_conf  p3_dog  \n",
       "0  0.156665    True    Shetland_sheepdog  0.061428    True  \n",
       "1  0.074192    True  Rhodesian_ridgeback  0.072010    True  \n",
       "2  0.138584    True           bloodhound  0.116197    True  \n",
       "3  0.360687    True   miniature_pinscher  0.222752    True  \n",
       "4  0.243682    True             Doberman  0.154629    True  "
      ]
     },
     "execution_count": 8,
     "metadata": {},
     "output_type": "execute_result"
    }
   ],
   "source": [
    "# create dataframe\n",
    "df_img_init = pd.read_csv('/home/workspace/image-predictions.tsv', sep='\\t')\n",
    "df_img_init.head()"
   ]
  },
  {
   "cell_type": "code",
   "execution_count": 9,
   "metadata": {
    "nbpresent": {
     "id": "16bb0578-8cfc-4f7c-8404-512b280338d3"
    }
   },
   "outputs": [],
   "source": [
    "# configure twitter API\n",
    "#auth = tweepy.OAuthHandler(config.consumer_key, config.consumer_secret)\n",
    "#auth.set_access_token(config.access_token, config.access_secret)\n",
    "#api = tweepy.API(auth, wait_on_rate_limit=True, wait_on_rate_limit_notify=True)"
   ]
  },
  {
   "cell_type": "code",
   "execution_count": 10,
   "metadata": {
    "nbpresent": {
     "id": "7c16c5d5-835c-4193-9d93-849db3f7eb28"
    }
   },
   "outputs": [],
   "source": [
    "# complete information using twitter API\n",
    "#with open('data/tweet_json.txt','w') as outfile:\n",
    "    # call infos\n",
    "    #for i in archive['tweet_id']:\n",
    "        # handling exception\n",
    "        #try:\n",
    "            #tweet = api.get_status(i,tweet_mode='extended')\n",
    "            #json.dump(tweet._json, outfile)\n",
    "            #outfile.write(\"\\n\")\n",
    "        #except:\n",
    "            #e = os.sys.exc_info()[0]\n",
    "            \n",
    "# inspiration from try/except : https://wiki.python.org/moin/HandlingExceptions"
   ]
  },
  {
   "cell_type": "code",
   "execution_count": 11,
   "metadata": {
    "nbpresent": {
     "id": "84226fd9-7a53-438f-a1b8-0ad5324cc160"
    }
   },
   "outputs": [
    {
     "data": {
      "text/html": [
       "<div>\n",
       "<style scoped>\n",
       "    .dataframe tbody tr th:only-of-type {\n",
       "        vertical-align: middle;\n",
       "    }\n",
       "\n",
       "    .dataframe tbody tr th {\n",
       "        vertical-align: top;\n",
       "    }\n",
       "\n",
       "    .dataframe thead th {\n",
       "        text-align: right;\n",
       "    }\n",
       "</style>\n",
       "<table border=\"1\" class=\"dataframe\">\n",
       "  <thead>\n",
       "    <tr style=\"text-align: right;\">\n",
       "      <th></th>\n",
       "      <th>favorite_count</th>\n",
       "      <th>id</th>\n",
       "      <th>retweet_count</th>\n",
       "    </tr>\n",
       "  </thead>\n",
       "  <tbody>\n",
       "    <tr>\n",
       "      <th>0</th>\n",
       "      <td>39007</td>\n",
       "      <td>892420643555336193</td>\n",
       "      <td>8658</td>\n",
       "    </tr>\n",
       "    <tr>\n",
       "      <th>1</th>\n",
       "      <td>33395</td>\n",
       "      <td>892177421306343426</td>\n",
       "      <td>6358</td>\n",
       "    </tr>\n",
       "    <tr>\n",
       "      <th>2</th>\n",
       "      <td>25181</td>\n",
       "      <td>891815181378084864</td>\n",
       "      <td>4223</td>\n",
       "    </tr>\n",
       "    <tr>\n",
       "      <th>3</th>\n",
       "      <td>42360</td>\n",
       "      <td>891689557279858688</td>\n",
       "      <td>8769</td>\n",
       "    </tr>\n",
       "    <tr>\n",
       "      <th>4</th>\n",
       "      <td>40520</td>\n",
       "      <td>891327558926688256</td>\n",
       "      <td>9536</td>\n",
       "    </tr>\n",
       "  </tbody>\n",
       "</table>\n",
       "</div>"
      ],
      "text/plain": [
       "   favorite_count                  id  retweet_count\n",
       "0           39007  892420643555336193           8658\n",
       "1           33395  892177421306343426           6358\n",
       "2           25181  891815181378084864           4223\n",
       "3           42360  891689557279858688           8769\n",
       "4           40520  891327558926688256           9536"
      ]
     },
     "execution_count": 11,
     "metadata": {},
     "output_type": "execute_result"
    }
   ],
   "source": [
    "# Defining the elements to be retained \n",
    "retain_elements = ['id', 'favorite_count', 'retweet_count']\n",
    "\n",
    "# Defining the required Dictionary\n",
    "data = []\n",
    "with open('/home/workspace/tweet_json.txt', 'r') as r: \n",
    "    json_tweet = r.readline()\n",
    "    while json_tweet:\n",
    "        dictionnary = json.loads(json_tweet)\n",
    "        data_row = dict((i, dictionnary[i]) for i in retain_elements)\n",
    "        data.append(data_row)\n",
    "        json_tweet = r.readline()\n",
    "        \n",
    "            \n",
    "# create DataFrame    \n",
    "df_gat_data = pd.DataFrame.from_dict(data)\n",
    "\n",
    "# confirm\n",
    "df_gat_data.head()"
   ]
  },
  {
   "cell_type": "markdown",
   "metadata": {
    "nbpresent": {
     "id": "8a3792ee-6526-4fe9-a785-3eb36c43f260"
    }
   },
   "source": [
    "# 2. Assessing the Data"
   ]
  },
  {
   "cell_type": "markdown",
   "metadata": {
    "nbpresent": {
     "id": "e49e3d40-0280-40f9-ae0b-805986afcb46"
    }
   },
   "source": [
    "### 2.1 Assessing the archive\n"
   ]
  },
  {
   "cell_type": "code",
   "execution_count": 12,
   "metadata": {
    "nbpresent": {
     "id": "c8ce8aa4-d2d9-4207-868b-cf9ce0c9e78a"
    }
   },
   "outputs": [
    {
     "data": {
      "text/html": [
       "<div>\n",
       "<style scoped>\n",
       "    .dataframe tbody tr th:only-of-type {\n",
       "        vertical-align: middle;\n",
       "    }\n",
       "\n",
       "    .dataframe tbody tr th {\n",
       "        vertical-align: top;\n",
       "    }\n",
       "\n",
       "    .dataframe thead th {\n",
       "        text-align: right;\n",
       "    }\n",
       "</style>\n",
       "<table border=\"1\" class=\"dataframe\">\n",
       "  <thead>\n",
       "    <tr style=\"text-align: right;\">\n",
       "      <th></th>\n",
       "      <th>tweet_id</th>\n",
       "      <th>in_reply_to_status_id</th>\n",
       "      <th>in_reply_to_user_id</th>\n",
       "      <th>timestamp</th>\n",
       "      <th>source</th>\n",
       "      <th>text</th>\n",
       "      <th>retweeted_status_id</th>\n",
       "      <th>retweeted_status_user_id</th>\n",
       "      <th>retweeted_status_timestamp</th>\n",
       "      <th>expanded_urls</th>\n",
       "      <th>rating_numerator</th>\n",
       "      <th>rating_denominator</th>\n",
       "      <th>name</th>\n",
       "      <th>doggo</th>\n",
       "      <th>floofer</th>\n",
       "      <th>pupper</th>\n",
       "      <th>puppo</th>\n",
       "    </tr>\n",
       "  </thead>\n",
       "  <tbody>\n",
       "    <tr>\n",
       "      <th>0</th>\n",
       "      <td>892420643555336193</td>\n",
       "      <td>NaN</td>\n",
       "      <td>NaN</td>\n",
       "      <td>2017-08-01 16:23:56 +0000</td>\n",
       "      <td>&lt;a href=\"http://twitter.com/download/iphone\" r...</td>\n",
       "      <td>This is Phineas. He's a mystical boy. Only eve...</td>\n",
       "      <td>NaN</td>\n",
       "      <td>NaN</td>\n",
       "      <td>NaN</td>\n",
       "      <td>https://twitter.com/dog_rates/status/892420643...</td>\n",
       "      <td>13</td>\n",
       "      <td>10</td>\n",
       "      <td>Phineas</td>\n",
       "      <td>None</td>\n",
       "      <td>None</td>\n",
       "      <td>None</td>\n",
       "      <td>None</td>\n",
       "    </tr>\n",
       "    <tr>\n",
       "      <th>1</th>\n",
       "      <td>892177421306343426</td>\n",
       "      <td>NaN</td>\n",
       "      <td>NaN</td>\n",
       "      <td>2017-08-01 00:17:27 +0000</td>\n",
       "      <td>&lt;a href=\"http://twitter.com/download/iphone\" r...</td>\n",
       "      <td>This is Tilly. She's just checking pup on you....</td>\n",
       "      <td>NaN</td>\n",
       "      <td>NaN</td>\n",
       "      <td>NaN</td>\n",
       "      <td>https://twitter.com/dog_rates/status/892177421...</td>\n",
       "      <td>13</td>\n",
       "      <td>10</td>\n",
       "      <td>Tilly</td>\n",
       "      <td>None</td>\n",
       "      <td>None</td>\n",
       "      <td>None</td>\n",
       "      <td>None</td>\n",
       "    </tr>\n",
       "    <tr>\n",
       "      <th>2</th>\n",
       "      <td>891815181378084864</td>\n",
       "      <td>NaN</td>\n",
       "      <td>NaN</td>\n",
       "      <td>2017-07-31 00:18:03 +0000</td>\n",
       "      <td>&lt;a href=\"http://twitter.com/download/iphone\" r...</td>\n",
       "      <td>This is Archie. He is a rare Norwegian Pouncin...</td>\n",
       "      <td>NaN</td>\n",
       "      <td>NaN</td>\n",
       "      <td>NaN</td>\n",
       "      <td>https://twitter.com/dog_rates/status/891815181...</td>\n",
       "      <td>12</td>\n",
       "      <td>10</td>\n",
       "      <td>Archie</td>\n",
       "      <td>None</td>\n",
       "      <td>None</td>\n",
       "      <td>None</td>\n",
       "      <td>None</td>\n",
       "    </tr>\n",
       "    <tr>\n",
       "      <th>3</th>\n",
       "      <td>891689557279858688</td>\n",
       "      <td>NaN</td>\n",
       "      <td>NaN</td>\n",
       "      <td>2017-07-30 15:58:51 +0000</td>\n",
       "      <td>&lt;a href=\"http://twitter.com/download/iphone\" r...</td>\n",
       "      <td>This is Darla. She commenced a snooze mid meal...</td>\n",
       "      <td>NaN</td>\n",
       "      <td>NaN</td>\n",
       "      <td>NaN</td>\n",
       "      <td>https://twitter.com/dog_rates/status/891689557...</td>\n",
       "      <td>13</td>\n",
       "      <td>10</td>\n",
       "      <td>Darla</td>\n",
       "      <td>None</td>\n",
       "      <td>None</td>\n",
       "      <td>None</td>\n",
       "      <td>None</td>\n",
       "    </tr>\n",
       "    <tr>\n",
       "      <th>4</th>\n",
       "      <td>891327558926688256</td>\n",
       "      <td>NaN</td>\n",
       "      <td>NaN</td>\n",
       "      <td>2017-07-29 16:00:24 +0000</td>\n",
       "      <td>&lt;a href=\"http://twitter.com/download/iphone\" r...</td>\n",
       "      <td>This is Franklin. He would like you to stop ca...</td>\n",
       "      <td>NaN</td>\n",
       "      <td>NaN</td>\n",
       "      <td>NaN</td>\n",
       "      <td>https://twitter.com/dog_rates/status/891327558...</td>\n",
       "      <td>12</td>\n",
       "      <td>10</td>\n",
       "      <td>Franklin</td>\n",
       "      <td>None</td>\n",
       "      <td>None</td>\n",
       "      <td>None</td>\n",
       "      <td>None</td>\n",
       "    </tr>\n",
       "  </tbody>\n",
       "</table>\n",
       "</div>"
      ],
      "text/plain": [
       "             tweet_id  in_reply_to_status_id  in_reply_to_user_id  \\\n",
       "0  892420643555336193                    NaN                  NaN   \n",
       "1  892177421306343426                    NaN                  NaN   \n",
       "2  891815181378084864                    NaN                  NaN   \n",
       "3  891689557279858688                    NaN                  NaN   \n",
       "4  891327558926688256                    NaN                  NaN   \n",
       "\n",
       "                   timestamp  \\\n",
       "0  2017-08-01 16:23:56 +0000   \n",
       "1  2017-08-01 00:17:27 +0000   \n",
       "2  2017-07-31 00:18:03 +0000   \n",
       "3  2017-07-30 15:58:51 +0000   \n",
       "4  2017-07-29 16:00:24 +0000   \n",
       "\n",
       "                                              source  \\\n",
       "0  <a href=\"http://twitter.com/download/iphone\" r...   \n",
       "1  <a href=\"http://twitter.com/download/iphone\" r...   \n",
       "2  <a href=\"http://twitter.com/download/iphone\" r...   \n",
       "3  <a href=\"http://twitter.com/download/iphone\" r...   \n",
       "4  <a href=\"http://twitter.com/download/iphone\" r...   \n",
       "\n",
       "                                                text  retweeted_status_id  \\\n",
       "0  This is Phineas. He's a mystical boy. Only eve...                  NaN   \n",
       "1  This is Tilly. She's just checking pup on you....                  NaN   \n",
       "2  This is Archie. He is a rare Norwegian Pouncin...                  NaN   \n",
       "3  This is Darla. She commenced a snooze mid meal...                  NaN   \n",
       "4  This is Franklin. He would like you to stop ca...                  NaN   \n",
       "\n",
       "   retweeted_status_user_id retweeted_status_timestamp  \\\n",
       "0                       NaN                        NaN   \n",
       "1                       NaN                        NaN   \n",
       "2                       NaN                        NaN   \n",
       "3                       NaN                        NaN   \n",
       "4                       NaN                        NaN   \n",
       "\n",
       "                                       expanded_urls  rating_numerator  \\\n",
       "0  https://twitter.com/dog_rates/status/892420643...                13   \n",
       "1  https://twitter.com/dog_rates/status/892177421...                13   \n",
       "2  https://twitter.com/dog_rates/status/891815181...                12   \n",
       "3  https://twitter.com/dog_rates/status/891689557...                13   \n",
       "4  https://twitter.com/dog_rates/status/891327558...                12   \n",
       "\n",
       "   rating_denominator      name doggo floofer pupper puppo  \n",
       "0                  10   Phineas  None    None   None  None  \n",
       "1                  10     Tilly  None    None   None  None  \n",
       "2                  10    Archie  None    None   None  None  \n",
       "3                  10     Darla  None    None   None  None  \n",
       "4                  10  Franklin  None    None   None  None  "
      ]
     },
     "execution_count": 12,
     "metadata": {},
     "output_type": "execute_result"
    }
   ],
   "source": [
    "archive.head()"
   ]
  },
  {
   "cell_type": "markdown",
   "metadata": {
    "nbpresent": {
     "id": "87c04645-b780-4928-bf9e-f087d73920c2"
    }
   },
   "source": [
    "### Observations : \n",
    "\n",
    "- The rows need to be suppressed if the value is a non-null to conserve only original tweets for the coulumn data corresponding to  : in_reply_to_status_id, in_reply_to_user_id, retweeted_status_id, retweeted_status_user_id, retweeted_statud_timestamp\n",
    "- The source contains html residues\n",
    "- The variables doggo, floofer, pupper and puppo present in the data as depicted above, all represent one single variable and as per the tidyness rule, should be a part of a single column"
   ]
  },
  {
   "cell_type": "code",
   "execution_count": 13,
   "metadata": {
    "nbpresent": {
     "id": "b5796790-e0dc-43e6-9954-7fcb538cd31d"
    }
   },
   "outputs": [
    {
     "name": "stdout",
     "output_type": "stream",
     "text": [
      "<class 'pandas.core.frame.DataFrame'>\n",
      "RangeIndex: 2356 entries, 0 to 2355\n",
      "Data columns (total 17 columns):\n",
      "tweet_id                      2356 non-null int64\n",
      "in_reply_to_status_id         78 non-null float64\n",
      "in_reply_to_user_id           78 non-null float64\n",
      "timestamp                     2356 non-null object\n",
      "source                        2356 non-null object\n",
      "text                          2356 non-null object\n",
      "retweeted_status_id           181 non-null float64\n",
      "retweeted_status_user_id      181 non-null float64\n",
      "retweeted_status_timestamp    181 non-null object\n",
      "expanded_urls                 2297 non-null object\n",
      "rating_numerator              2356 non-null int64\n",
      "rating_denominator            2356 non-null int64\n",
      "name                          2356 non-null object\n",
      "doggo                         2356 non-null object\n",
      "floofer                       2356 non-null object\n",
      "pupper                        2356 non-null object\n",
      "puppo                         2356 non-null object\n",
      "dtypes: float64(4), int64(3), object(10)\n",
      "memory usage: 313.0+ KB\n"
     ]
    }
   ],
   "source": [
    "# Getting the information regarding the data for further investigation\n",
    "archive.info()"
   ]
  },
  {
   "cell_type": "markdown",
   "metadata": {
    "nbpresent": {
     "id": "d1f65f57-2eaf-4ce8-822c-d8c670ed4639"
    }
   },
   "source": [
    "### Observations :\n",
    "\n",
    "- The \"timestamp\" is present as an object, which is supposed to be converted into datetime to be exploitable.\n",
    "- We can observe that there are some 'None' objects present in \"doggo\", \"floofer\", \"pupper\" and \"puppo\" which have to be convert into 'NaN'.\n",
    "- Some entries are missing expanded URL's.\n",
    "- The \"tweet_id\" currently present as an 'INT' should be converted to 'string' datatype."
   ]
  },
  {
   "cell_type": "code",
   "execution_count": 14,
   "metadata": {
    "nbpresent": {
     "id": "b50da196-b860-447a-8ac4-34362e4b44ad"
    }
   },
   "outputs": [
    {
     "data": {
      "text/plain": [
       "0"
      ]
     },
     "execution_count": 14,
     "metadata": {},
     "output_type": "execute_result"
    }
   ],
   "source": [
    "# Checking for Duplicate values corresponding to IDs.\n",
    "\n",
    "archive['tweet_id'].duplicated().sum()"
   ]
  },
  {
   "cell_type": "code",
   "execution_count": 15,
   "metadata": {
    "nbpresent": {
     "id": "dbccb7d4-f03f-4de4-aafe-c8602d8d9685"
    }
   },
   "outputs": [],
   "source": [
    "# Defining Stop Words function\n",
    "\n",
    "def stop_words(data_frame_column,name):\n",
    "    '''\n",
    "    take a data frame column and a column name\n",
    "    and print the number of stop words in the column\n",
    "    '''\n",
    "    count=0\n",
    "    for word in data_frame_column:\n",
    "        if word in ENGLISH_STOP_WORDS:\n",
    "            count+=1\n",
    "    print('The column ',name,' has ',count,' stop words.')"
   ]
  },
  {
   "cell_type": "code",
   "execution_count": 16,
   "metadata": {
    "nbpresent": {
     "id": "44f0cac0-f38a-4afc-87b7-9f3ef4a56ba6"
    }
   },
   "outputs": [
    {
     "name": "stdout",
     "output_type": "stream",
     "text": [
      "The column  tweet_id  has  0  stop words.\n",
      "The column  timestamp  has  0  stop words.\n",
      "The column  source  has  0  stop words.\n",
      "The column  expanded_urls  has  0  stop words.\n",
      "The column  rating_numerator  has  0  stop words.\n",
      "The column  rating_denominator  has  0  stop words.\n",
      "The column  name  has  87  stop words.\n",
      "The column  doggo  has  0  stop words.\n",
      "The column  floofer  has  0  stop words.\n",
      "The column  pupper  has  0  stop words.\n",
      "The column  puppo  has  0  stop words.\n"
     ]
    }
   ],
   "source": [
    "# Here we check the count of stop-words for each of the columns\n",
    "\n",
    "stop_words(archive['tweet_id'],'tweet_id')\n",
    "stop_words(archive['timestamp'],'timestamp')\n",
    "stop_words(archive['source'],'source')\n",
    "stop_words(archive['expanded_urls'],'expanded_urls')\n",
    "stop_words(archive['rating_numerator'],'rating_numerator')\n",
    "stop_words(archive['rating_denominator'],'rating_denominator')\n",
    "stop_words(archive['name'],'name')\n",
    "stop_words(archive['doggo'],'doggo')\n",
    "stop_words(archive['floofer'],'floofer')\n",
    "stop_words(archive['pupper'],'pupper')\n",
    "stop_words(archive['puppo'],'puppo')"
   ]
  },
  {
   "cell_type": "markdown",
   "metadata": {
    "nbpresent": {
     "id": "34017468-c8fb-4dcd-aebc-7e86638c2e85"
    }
   },
   "source": [
    "### Observations : \n",
    "\n",
    "- The \"name\" column has multiple stop words present."
   ]
  },
  {
   "cell_type": "code",
   "execution_count": 17,
   "metadata": {
    "nbpresent": {
     "id": "3a1e28fe-5ba4-4203-887f-413bf56b3e03"
    }
   },
   "outputs": [],
   "source": [
    "# Defining a function to detect the presence of 'None' string\n",
    "\n",
    "def detect_none(data_frame_column,name):\n",
    "    '''\n",
    "    take a data frame column and a column name\n",
    "    and print the number of 'None' string in the column\n",
    "    '''\n",
    "    count=0\n",
    "    for word in data_frame_column:\n",
    "        if word == 'None':\n",
    "            count+=1\n",
    "    print('The Column ', name, ' has ',count,'None entries present.')"
   ]
  },
  {
   "cell_type": "code",
   "execution_count": 18,
   "metadata": {
    "nbpresent": {
     "id": "44019e46-7f56-46a6-94e9-a83552d6c4cb"
    }
   },
   "outputs": [
    {
     "name": "stdout",
     "output_type": "stream",
     "text": [
      "The Column  tweet_id  has  0 None entries present.\n",
      "The Column  timestamp  has  0 None entries present.\n",
      "The Column  source  has  0 None entries present.\n",
      "The Column  expanded_urls  has  0 None entries present.\n",
      "The Column  rating_numerator  has  0 None entries present.\n",
      "The Column  rating_denominator  has  0 None entries present.\n",
      "The Column  name  has  745 None entries present.\n",
      "The Column  doggo  has  2259 None entries present.\n",
      "The Column  floofer  has  2346 None entries present.\n",
      "The Column  pupper  has  2099 None entries present.\n",
      "The Column  puppo  has  2326 None entries present.\n"
     ]
    }
   ],
   "source": [
    "# Calling the detect_none function defined above\n",
    "\n",
    "detect_none(archive['tweet_id'],'tweet_id')\n",
    "detect_none(archive['timestamp'],'timestamp')\n",
    "detect_none(archive['source'],'source')\n",
    "detect_none(archive['expanded_urls'],'expanded_urls')\n",
    "detect_none(archive['rating_numerator'],'rating_numerator')\n",
    "detect_none(archive['rating_denominator'],'rating_denominator')\n",
    "detect_none(archive['name'],'name')\n",
    "detect_none(archive['doggo'],'doggo')\n",
    "detect_none(archive['floofer'],'floofer')\n",
    "detect_none(archive['pupper'],'pupper')\n",
    "detect_none(archive['puppo'],'puppo')"
   ]
  },
  {
   "cell_type": "markdown",
   "metadata": {
    "nbpresent": {
     "id": "a716e84b-f183-49d6-8023-39e0a2847722"
    }
   },
   "source": [
    "### Observations : \n",
    "\n",
    "- As evident from above, the \"name\" column has a total of 745 'None' strings present.\n",
    "- Also, the columns \"doggo\", \"floofer\", \"pupper\" and \"puppo\" have 'None' strings present too."
   ]
  },
  {
   "cell_type": "code",
   "execution_count": 19,
   "metadata": {
    "nbpresent": {
     "id": "10306e46-6680-41de-b6b7-6075b2174381"
    }
   },
   "outputs": [
    {
     "name": "stdout",
     "output_type": "stream",
     "text": [
      "Sample of double URLs :  https://gofundme.com/ydvmve-surgery-for-jax,https://twitter.com/dog_rates/status/890971913173991426/photo/1\n",
      "Number of double links:  639\n"
     ]
    }
   ],
   "source": [
    "# During the observation of the Data Frame, we notice a Double-Link in \"expanded_urls\" column data content\n",
    "\n",
    "# Sample of double urls\n",
    "print('Sample of double URLs : ',archive.expanded_urls[6])\n",
    "\n",
    "# Summing up for retrieving the total count of double urls \n",
    "double_urls = archive.expanded_urls.str.contains(r',').sum()\n",
    "\n",
    "# Output the total count of double links\n",
    "print('Number of double links: ',double_urls)"
   ]
  },
  {
   "cell_type": "markdown",
   "metadata": {
    "nbpresent": {
     "id": "47728cdd-3e1f-4869-a66d-40b925f3c815"
    }
   },
   "source": [
    "### Observation : \n",
    "- We can clearly visualize from above that a total of 639 double links are present within \"expanded_urls\" column data"
   ]
  },
  {
   "cell_type": "code",
   "execution_count": 20,
   "metadata": {
    "nbpresent": {
     "id": "57a7f789-685b-4c7d-984d-81a20aa72296"
    }
   },
   "outputs": [
    {
     "data": {
      "text/plain": [
       "<matplotlib.axes._subplots.AxesSubplot at 0x7fa9f68ec860>"
      ]
     },
     "execution_count": 20,
     "metadata": {},
     "output_type": "execute_result"
    },
    {
     "data": {
      "image/png": "[encoded data removed]",
      "text/plain": [
       "<matplotlib.figure.Figure at 0x7faa20ab16d8>"
      ]
     },
     "metadata": {
      "needs_background": "light"
     },
     "output_type": "display_data"
    }
   ],
   "source": [
    "# Finding the denominator through graphs/plots \n",
    "\n",
    "plt.figure(figsize=(15,7))\n",
    "sns.countplot(archive.rating_denominator)"
   ]
  },
  {
   "cell_type": "code",
   "execution_count": 21,
   "metadata": {
    "nbpresent": {
     "id": "0e0e3dda-0cf8-4eb1-b9b2-cb16a580fc96"
    }
   },
   "outputs": [
    {
     "name": "stdout",
     "output_type": "stream",
     "text": [
      "The count of entries not equal to 10 is 23.\n"
     ]
    }
   ],
   "source": [
    "# Finding the count of Denominators not equal to the normal value of '10' \n",
    "count_not_dec = 0\n",
    "for i in archive['rating_denominator']:\n",
    "    if i != 10 :\n",
    "        count_not_dec += 1\n",
    "        \n",
    "print('The count of entries not equal to 10 is {}.'.format(count_not_dec))"
   ]
  },
  {
   "cell_type": "markdown",
   "metadata": {
    "nbpresent": {
     "id": "87ff53a9-771d-4d72-bf59-a3768be3776a"
    }
   },
   "source": [
    "### Observations : \n",
    "\n",
    "- We can see that a total of 23 ratings do not have the denominator value as 10, i.e. these many values are not rated out of 10."
   ]
  },
  {
   "cell_type": "code",
   "execution_count": 22,
   "metadata": {
    "nbpresent": {
     "id": "8e8493d6-2e09-41bf-a2c8-422c9e15b185"
    }
   },
   "outputs": [
    {
     "data": {
      "text/plain": [
       "<matplotlib.axes._subplots.AxesSubplot at 0x7fa9f46facf8>"
      ]
     },
     "execution_count": 22,
     "metadata": {},
     "output_type": "execute_result"
    },
    {
     "data": {
      "image/png": "[encoded data removed]",
      "text/plain": [
       "<matplotlib.figure.Figure at 0x7fa9f46fa748>"
      ]
     },
     "metadata": {
      "needs_background": "light"
     },
     "output_type": "display_data"
    }
   ],
   "source": [
    "# Visualizing the values for Numerators in the given ratings\n",
    "\n",
    "plt.figure(figsize=(15,7))\n",
    "sns.countplot(archive.rating_numerator)"
   ]
  },
  {
   "cell_type": "code",
   "execution_count": 23,
   "metadata": {
    "nbpresent": {
     "id": "ea45f75e-62c2-4c22-8756-b6a96777f052"
    }
   },
   "outputs": [
    {
     "name": "stdout",
     "output_type": "stream",
     "text": [
      "The count of Numerator values less than 10 is 440.\n"
     ]
    }
   ],
   "source": [
    "# Calculating the number of values for which the Numerator is under 10 \n",
    "\n",
    "count_num_lessthan_10 = 0\n",
    "for num in archive['rating_numerator']:\n",
    "    if num <= 9:\n",
    "        count_num_lessthan_10 += 1\n",
    "        \n",
    "# Output the Count         \n",
    "print('The count of Numerator values less than 10 is {}.'.format(count_num_lessthan_10))"
   ]
  },
  {
   "cell_type": "markdown",
   "metadata": {
    "nbpresent": {
     "id": "2b71df8d-6e73-4b56-8eb7-2d8d099c612d"
    }
   },
   "source": [
    "### Observations : \n",
    "\n",
    "- Thus, we can see that a total of 440 entries have a Numerator value less than 10."
   ]
  },
  {
   "cell_type": "code",
   "execution_count": 24,
   "metadata": {},
   "outputs": [
    {
     "name": "stdout",
     "output_type": "stream",
     "text": [
      "This is Logan, the Chow who lived. He solemnly swears he's up to lots of good. H*ckin magical af 9.75/10 https://t.co/yBO5wuqaPS \n",
      " The Numerator value extracted is :  75\n"
     ]
    }
   ],
   "source": [
    "# A sample possessing scrapping error while parsing the Numerator\n",
    "\n",
    "print(archive.text[695],'\\n','The Numerator value extracted is : ',archive.rating_numerator[695])"
   ]
  },
  {
   "cell_type": "code",
   "execution_count": 25,
   "metadata": {},
   "outputs": [
    {
     "name": "stdout",
     "output_type": "stream",
     "text": [
      "Index:  45 \n",
      " Text:  This is Bella. She hopes her smile made you smile. If not, she is also offering you her favorite monkey. 13.5/10 https://t.co/qjrljjt948 \n",
      "Numerator:  5 \n",
      "\n",
      "Index:  340 \n",
      " Text:  RT @dog_rates: This is Logan, the Chow who lived. He solemnly swears he's up to lots of good. H*ckin magical af 9.75/10 https://t.co/yBO5wu… \n",
      "Numerator:  75 \n",
      "\n",
      "Index:  695 \n",
      " Text:  This is Logan, the Chow who lived. He solemnly swears he's up to lots of good. H*ckin magical af 9.75/10 https://t.co/yBO5wuqaPS \n",
      "Numerator:  75 \n",
      "\n",
      "Index:  763 \n",
      " Text:  This is Sophie. She's a Jubilant Bush Pupper. Super h*ckin rare. Appears at random just to smile at the locals. 11.27/10 would smile back https://t.co/QFaUiIHxHq \n",
      "Numerator:  27 \n",
      "\n",
      "Index:  1689 \n",
      " Text:  I've been told there's a slight possibility he's checking his mirror. We'll bump to 9.5/10. Still a menace \n",
      "Numerator:  5 \n",
      "\n",
      "Index:  1712 \n",
      " Text:  Here we have uncovered an entire battalion of holiday puppers. Average of 11.26/10 https://t.co/eNm2S6p9BD \n",
      "Numerator:  26 \n",
      "\n"
     ]
    }
   ],
   "source": [
    "# The scrapping error seems to be more prone to Numerators containing Decimal Values\n",
    "\n",
    "# So, we try to look for entries where the Numerator is a Decimal Value, using Regular Expressions \n",
    "\n",
    "test = archive.copy()\n",
    "\n",
    "for row in test['text']:\n",
    "    detect = '(\\d+\\.\\d+)\\/(\\d+)'\n",
    "    detect_result = re.search(detect,row)\n",
    "    if detect_result != None:\n",
    "        Index=test.loc[test['text']==row].index[0]\n",
    "        Text = archive.text[Index]\n",
    "        Numerator = archive.rating_numerator[Index]\n",
    "        print('Index: ',Index,'\\n',\n",
    "              'Text: ',Text,'\\n'\n",
    "              'Numerator: ',Numerator,'\\n',\n",
    "             )\n",
    "        \n"
   ]
  },
  {
   "cell_type": "markdown",
   "metadata": {},
   "source": [
    "### Observations :\n",
    "\n",
    "- It is pretty evident from the above result that we are getting incorrect or false data corresponding to the Numerators, when it has a Decimal Value, for all numerators in \"rating_numerator\" column."
   ]
  },
  {
   "cell_type": "code",
   "execution_count": 26,
   "metadata": {
    "nbpresent": {
     "id": "08eb84ed-eff9-4e48-ae3b-0860b1670ab9"
    }
   },
   "outputs": [
    {
     "data": {
      "text/plain": [
       "0    1976\n",
       "1     366\n",
       "2      14\n",
       "Name: gender_number, dtype: int64"
      ]
     },
     "execution_count": 26,
     "metadata": {},
     "output_type": "execute_result"
    },
    {
     "data": {
      "image/png": "[encoded data removed]",
      "text/plain": [
       "<matplotlib.figure.Figure at 0x7fa9f44f4e48>"
      ]
     },
     "metadata": {
      "needs_background": "light"
     },
     "output_type": "display_data"
    }
   ],
   "source": [
    "# Another assessment we come across is that there is a contradiction in dog categories.\n",
    "# Here, we have multiple categories for dogs, namely \"doggo\",\"floofer\",\"pupper\",\"puppo\".\n",
    "# Ideally, we should have dog in a single category, and not in multiple ones as mentioned above.\n",
    "\n",
    "# So, in order to maintain a single category, we start by transforming the category in 0 or 1\n",
    "# Hence, we temporarily create a new category with sum if superior to 1 is false \n",
    "\n",
    "# Creating a copy \n",
    "archive_2 = archive.copy()\n",
    "\n",
    "# Defining a procedure to convert the column into a bi-variate 0 and 1 \n",
    "archive_2['doggo'] = archive_2['doggo'].apply(lambda x: 0 if x=='None' else 1)\n",
    "archive_2['floofer'] = archive_2['floofer'].apply(lambda x: 0 if x=='None' else 1)\n",
    "archive_2['pupper'] = archive_2['pupper'].apply(lambda x: 0 if x=='None' else 1)\n",
    "archive_2['puppo'] = archive_2['puppo'].apply(lambda x: 0 if x=='None' else 1)\n",
    "\n",
    "# Defining a new column \"gender_number\"\n",
    "archive_2['gender_number']=archive_2.iloc[:,[13,14,15,16]].sum(axis=1)\n",
    "\n",
    "# Measuring the number \n",
    "plt.figure(figsize=(15,7))\n",
    "sns.countplot(archive_2.gender_number)\n",
    "\n",
    "# Displaying the total count against each value\n",
    "archive_2['gender_number'].value_counts()"
   ]
  },
  {
   "cell_type": "markdown",
   "metadata": {
    "nbpresent": {
     "id": "56a50696-4906-4dcd-8041-e128ac76fd55"
    }
   },
   "source": [
    "### Observations :\n",
    "\n",
    "- Hence, we can visualize that there are 14 rows, belonging in two categories."
   ]
  },
  {
   "cell_type": "markdown",
   "metadata": {
    "nbpresent": {
     "id": "dfecd316-b658-4700-9a60-b9d86fd685c1"
    }
   },
   "source": [
    "#### Assessment Summary : \n",
    "\n",
    "- The values corresponding to \"tweet_id\" column, currently present as 'INT' values, have to be of 'string' data types.\n",
    "- The rows need to be suppressed if the value is a non-null to conserve only original tweets for the coulumn data corresponding to  : \"in_reply_to_status_id\", \"in_reply_to_user_id\", \"retweeted_status_id\", \"retweeted_status_user_id\", \"retweeted_statud_timestamp\".\n",
    "- The source contains html residues.\n",
    "- Some entries are missing expanded URL's.\n",
    "- The variables doggo, floofer, pupper and puppo present in the data as depicted above, all represent one single variable and as per the tidyness rule, should be a part of a single column.\n",
    "- We can observe that there are some 'None' objects present in \"doggo\", \"floofer\", \"pupper\" and \"puppo\" which have to be convert into 'NaN'.\n",
    "- 14 rows are in two categories\n",
    "- 'None' object in \"doggo\", \"floofer\", \"pupper\" and \"puppo\" have to be converted into 'NaN'.\n",
    "- The \"timestamp\" is present as an object, which is supposed to be converted into datetime to be exploitable.\n",
    "- The \"name\" column has multiple stop words present.\n",
    "- As evident from above, the \"name\" column has a total of 745 'None' strings present.\n",
    "- We can clearly visualize from above that a total of 639 double links are present within \"expanded_urls\" column data.\n",
    "- We can see that a total of 23 ratings do not have the denominator value as 10, i.e. these many values are not rated out of 10.\n",
    "- Thus, we can see that a total of 440 entries have a Numerator value less than 10.\n",
    "- It is pretty evident from the above result that we are getting incorrect or false data corresponding to the Numerators, when it has a Decimal Value, for all numerators in \"rating_numerator\" column."
   ]
  },
  {
   "cell_type": "markdown",
   "metadata": {
    "nbpresent": {
     "id": "3a6defc6-b7a9-4350-8630-27b15fa4dc42"
    }
   },
   "source": [
    "### 2.2 Assessing image\n"
   ]
  },
  {
   "cell_type": "code",
   "execution_count": 27,
   "metadata": {
    "nbpresent": {
     "id": "f48d0c97-09c6-4c2d-87f2-18cc0eba6b57"
    }
   },
   "outputs": [
    {
     "data": {
      "text/html": [
       "<div>\n",
       "<style scoped>\n",
       "    .dataframe tbody tr th:only-of-type {\n",
       "        vertical-align: middle;\n",
       "    }\n",
       "\n",
       "    .dataframe tbody tr th {\n",
       "        vertical-align: top;\n",
       "    }\n",
       "\n",
       "    .dataframe thead th {\n",
       "        text-align: right;\n",
       "    }\n",
       "</style>\n",
       "<table border=\"1\" class=\"dataframe\">\n",
       "  <thead>\n",
       "    <tr style=\"text-align: right;\">\n",
       "      <th></th>\n",
       "      <th>tweet_id</th>\n",
       "      <th>jpg_url</th>\n",
       "      <th>img_num</th>\n",
       "      <th>p1</th>\n",
       "      <th>p1_conf</th>\n",
       "      <th>p1_dog</th>\n",
       "      <th>p2</th>\n",
       "      <th>p2_conf</th>\n",
       "      <th>p2_dog</th>\n",
       "      <th>p3</th>\n",
       "      <th>p3_conf</th>\n",
       "      <th>p3_dog</th>\n",
       "    </tr>\n",
       "  </thead>\n",
       "  <tbody>\n",
       "    <tr>\n",
       "      <th>0</th>\n",
       "      <td>666020888022790149</td>\n",
       "      <td>https://pbs.twimg.com/media/CT4udn0WwAA0aMy.jpg</td>\n",
       "      <td>1</td>\n",
       "      <td>Welsh_springer_spaniel</td>\n",
       "      <td>0.465074</td>\n",
       "      <td>True</td>\n",
       "      <td>collie</td>\n",
       "      <td>0.156665</td>\n",
       "      <td>True</td>\n",
       "      <td>Shetland_sheepdog</td>\n",
       "      <td>0.061428</td>\n",
       "      <td>True</td>\n",
       "    </tr>\n",
       "    <tr>\n",
       "      <th>1</th>\n",
       "      <td>666029285002620928</td>\n",
       "      <td>https://pbs.twimg.com/media/CT42GRgUYAA5iDo.jpg</td>\n",
       "      <td>1</td>\n",
       "      <td>redbone</td>\n",
       "      <td>0.506826</td>\n",
       "      <td>True</td>\n",
       "      <td>miniature_pinscher</td>\n",
       "      <td>0.074192</td>\n",
       "      <td>True</td>\n",
       "      <td>Rhodesian_ridgeback</td>\n",
       "      <td>0.072010</td>\n",
       "      <td>True</td>\n",
       "    </tr>\n",
       "    <tr>\n",
       "      <th>2</th>\n",
       "      <td>666033412701032449</td>\n",
       "      <td>https://pbs.twimg.com/media/CT4521TWwAEvMyu.jpg</td>\n",
       "      <td>1</td>\n",
       "      <td>German_shepherd</td>\n",
       "      <td>0.596461</td>\n",
       "      <td>True</td>\n",
       "      <td>malinois</td>\n",
       "      <td>0.138584</td>\n",
       "      <td>True</td>\n",
       "      <td>bloodhound</td>\n",
       "      <td>0.116197</td>\n",
       "      <td>True</td>\n",
       "    </tr>\n",
       "    <tr>\n",
       "      <th>3</th>\n",
       "      <td>666044226329800704</td>\n",
       "      <td>https://pbs.twimg.com/media/CT5Dr8HUEAA-lEu.jpg</td>\n",
       "      <td>1</td>\n",
       "      <td>Rhodesian_ridgeback</td>\n",
       "      <td>0.408143</td>\n",
       "      <td>True</td>\n",
       "      <td>redbone</td>\n",
       "      <td>0.360687</td>\n",
       "      <td>True</td>\n",
       "      <td>miniature_pinscher</td>\n",
       "      <td>0.222752</td>\n",
       "      <td>True</td>\n",
       "    </tr>\n",
       "    <tr>\n",
       "      <th>4</th>\n",
       "      <td>666049248165822465</td>\n",
       "      <td>https://pbs.twimg.com/media/CT5IQmsXIAAKY4A.jpg</td>\n",
       "      <td>1</td>\n",
       "      <td>miniature_pinscher</td>\n",
       "      <td>0.560311</td>\n",
       "      <td>True</td>\n",
       "      <td>Rottweiler</td>\n",
       "      <td>0.243682</td>\n",
       "      <td>True</td>\n",
       "      <td>Doberman</td>\n",
       "      <td>0.154629</td>\n",
       "      <td>True</td>\n",
       "    </tr>\n",
       "  </tbody>\n",
       "</table>\n",
       "</div>"
      ],
      "text/plain": [
       "             tweet_id                                          jpg_url  \\\n",
       "0  666020888022790149  https://pbs.twimg.com/media/CT4udn0WwAA0aMy.jpg   \n",
       "1  666029285002620928  https://pbs.twimg.com/media/CT42GRgUYAA5iDo.jpg   \n",
       "2  666033412701032449  https://pbs.twimg.com/media/CT4521TWwAEvMyu.jpg   \n",
       "3  666044226329800704  https://pbs.twimg.com/media/CT5Dr8HUEAA-lEu.jpg   \n",
       "4  666049248165822465  https://pbs.twimg.com/media/CT5IQmsXIAAKY4A.jpg   \n",
       "\n",
       "   img_num                      p1   p1_conf  p1_dog                  p2  \\\n",
       "0        1  Welsh_springer_spaniel  0.465074    True              collie   \n",
       "1        1                 redbone  0.506826    True  miniature_pinscher   \n",
       "2        1         German_shepherd  0.596461    True            malinois   \n",
       "3        1     Rhodesian_ridgeback  0.408143    True             redbone   \n",
       "4        1      miniature_pinscher  0.560311    True          Rottweiler   \n",
       "\n",
       "    p2_conf  p2_dog                   p3   p3_conf  p3_dog  \n",
       "0  0.156665    True    Shetland_sheepdog  0.061428    True  \n",
       "1  0.074192    True  Rhodesian_ridgeback  0.072010    True  \n",
       "2  0.138584    True           bloodhound  0.116197    True  \n",
       "3  0.360687    True   miniature_pinscher  0.222752    True  \n",
       "4  0.243682    True             Doberman  0.154629    True  "
      ]
     },
     "execution_count": 27,
     "metadata": {},
     "output_type": "execute_result"
    }
   ],
   "source": [
    "# Viewing the data structure.\n",
    "df_img_init.head()"
   ]
  },
  {
   "cell_type": "markdown",
   "metadata": {
    "nbpresent": {
     "id": "e7982bcb-2b65-4e70-bf19-db553ce54745"
    }
   },
   "source": [
    "### Observations : \n",
    "\n",
    "- We can observe that the columns \"p1\", \"p2\" and \"p3\" possess inconsistent writings."
   ]
  },
  {
   "cell_type": "code",
   "execution_count": 28,
   "metadata": {
    "nbpresent": {
     "id": "f3f99e81-a79e-4e84-92d6-b02e07831b61"
    }
   },
   "outputs": [
    {
     "name": "stdout",
     "output_type": "stream",
     "text": [
      "<class 'pandas.core.frame.DataFrame'>\n",
      "RangeIndex: 2075 entries, 0 to 2074\n",
      "Data columns (total 12 columns):\n",
      "tweet_id    2075 non-null int64\n",
      "jpg_url     2075 non-null object\n",
      "img_num     2075 non-null int64\n",
      "p1          2075 non-null object\n",
      "p1_conf     2075 non-null float64\n",
      "p1_dog      2075 non-null bool\n",
      "p2          2075 non-null object\n",
      "p2_conf     2075 non-null float64\n",
      "p2_dog      2075 non-null bool\n",
      "p3          2075 non-null object\n",
      "p3_conf     2075 non-null float64\n",
      "p3_dog      2075 non-null bool\n",
      "dtypes: bool(3), float64(3), int64(2), object(4)\n",
      "memory usage: 152.1+ KB\n"
     ]
    }
   ],
   "source": [
    "# Getting insights on the data.\n",
    "df_img_init.info()"
   ]
  },
  {
   "cell_type": "code",
   "execution_count": 29,
   "metadata": {
    "nbpresent": {
     "id": "b61441ec-9fbb-49f6-ad85-63bb57184944"
    }
   },
   "outputs": [
    {
     "data": {
      "text/plain": [
       "0"
      ]
     },
     "execution_count": 29,
     "metadata": {},
     "output_type": "execute_result"
    }
   ],
   "source": [
    "# Getting the count of Duplicates \n",
    "df_img_init.duplicated().sum()"
   ]
  },
  {
   "cell_type": "code",
   "execution_count": 30,
   "metadata": {
    "nbpresent": {
     "id": "a2f3ffb5-59e3-4307-ae0b-1fbf1ba3218a"
    }
   },
   "outputs": [
    {
     "name": "stdout",
     "output_type": "stream",
     "text": [
      "The row 0 has 0 image\n"
     ]
    }
   ],
   "source": [
    "# Checking for present images\n",
    "\n",
    "img_count = 0\n",
    "for img in df_img_init['img_num']:\n",
    "    if img < 1:\n",
    "        img_count += 1\n",
    "print('The row {} has 0 image'.format(img_count))"
   ]
  },
  {
   "cell_type": "code",
   "execution_count": 31,
   "metadata": {
    "nbpresent": {
     "id": "58f535ef-57db-44c4-824c-63a37419a71a"
    }
   },
   "outputs": [
    {
     "data": {
      "text/plain": [
       "1    1780\n",
       "2     198\n",
       "3      66\n",
       "4      31\n",
       "Name: img_num, dtype: int64"
      ]
     },
     "execution_count": 31,
     "metadata": {},
     "output_type": "execute_result"
    }
   ],
   "source": [
    "# Getting the count of image\n",
    "\n",
    "df_img_init['img_num'].value_counts()"
   ]
  },
  {
   "cell_type": "code",
   "execution_count": 32,
   "metadata": {
    "nbpresent": {
     "id": "28eb3563-a723-4e01-8f78-417a90cb5786"
    }
   },
   "outputs": [
    {
     "name": "stdout",
     "output_type": "stream",
     "text": [
      "The column  tweet_id  has  0  stop words.\n",
      "The column  jpg_url  has  0  stop words.\n",
      "The column  img_num  has  0  stop words.\n",
      "The column  p1  has  0  stop words.\n",
      "The column  p1_conf  has  0  stop words.\n",
      "The column  p2  has  0  stop words.\n",
      "The column  p2_conf  has  0  stop words.\n",
      "The column  p3  has  0  stop words.\n",
      "The column  p3_conf  has  0  stop words.\n",
      "The column  p1_dog  has  0  stop words.\n",
      "The column  p2_dog  has  0  stop words.\n",
      "The column  p3_dog  has  0  stop words.\n"
     ]
    }
   ],
   "source": [
    "# Finding the count for Stop-Words present in each columns\n",
    "\n",
    "stop_words(df_img_init['tweet_id'],'tweet_id')\n",
    "stop_words(df_img_init['jpg_url'],'jpg_url')\n",
    "stop_words(df_img_init['img_num'],'img_num')\n",
    "stop_words(df_img_init['p1'],'p1')\n",
    "stop_words(df_img_init['p1_conf'],'p1_conf')\n",
    "stop_words(df_img_init['p2'],'p2')\n",
    "stop_words(df_img_init['p2_conf'],'p2_conf')\n",
    "stop_words(df_img_init['p3'],'p3')\n",
    "stop_words(df_img_init['p3_conf'],'p3_conf')\n",
    "stop_words(df_img_init['p1_dog'],'p1_dog')\n",
    "stop_words(df_img_init['p2_dog'],'p2_dog')\n",
    "stop_words(df_img_init['p3_dog'],'p3_dog')"
   ]
  },
  {
   "cell_type": "code",
   "execution_count": 33,
   "metadata": {
    "nbpresent": {
     "id": "91c7bf0d-67ce-4297-95ac-04a5bbe31f40"
    }
   },
   "outputs": [
    {
     "name": "stdout",
     "output_type": "stream",
     "text": [
      "The Column  tweet_id  has  0 None entries present.\n",
      "The Column  timestamp  has  0 None entries present.\n",
      "The Column  source  has  0 None entries present.\n",
      "The Column  expanded_urls  has  0 None entries present.\n",
      "The Column  rating_numerator  has  0 None entries present.\n",
      "The Column  rating_denominator  has  0 None entries present.\n",
      "The Column  name  has  745 None entries present.\n",
      "The Column  doggo  has  2259 None entries present.\n",
      "The Column  floofer  has  2346 None entries present.\n",
      "The Column  pupper  has  2099 None entries present.\n",
      "The Column  puppo  has  2326 None entries present.\n"
     ]
    }
   ],
   "source": [
    "# Calculating the count of 'None' string\n",
    "\n",
    "detect_none(archive['tweet_id'],'tweet_id')\n",
    "detect_none(archive['timestamp'],'timestamp')\n",
    "detect_none(archive['source'],'source')\n",
    "detect_none(archive['expanded_urls'],'expanded_urls')\n",
    "detect_none(archive['rating_numerator'],'rating_numerator')\n",
    "detect_none(archive['rating_denominator'],'rating_denominator')\n",
    "detect_none(archive['name'],'name')\n",
    "detect_none(archive['doggo'],'doggo')\n",
    "detect_none(archive['floofer'],'floofer')\n",
    "detect_none(archive['pupper'],'pupper')\n",
    "detect_none(archive['puppo'],'puppo')"
   ]
  },
  {
   "cell_type": "code",
   "execution_count": 34,
   "metadata": {
    "nbpresent": {
     "id": "3962d0fe-373f-4485-8104-db2842e2c2fb"
    }
   },
   "outputs": [
    {
     "data": {
      "text/plain": [
       "True     1532\n",
       "False     543\n",
       "Name: p1_dog, dtype: int64"
      ]
     },
     "execution_count": 34,
     "metadata": {},
     "output_type": "execute_result"
    },
    {
     "data": {
      "image/png": "[encoded data removed]",
      "text/plain": [
       "<matplotlib.figure.Figure at 0x7fa9f41ebb00>"
      ]
     },
     "metadata": {
      "needs_background": "light"
     },
     "output_type": "display_data"
    }
   ],
   "source": [
    "# Checking for dog1\n",
    "\n",
    "plt.figure(figsize=(15,7))\n",
    "sns.countplot(df_img_init.p1_dog)\n",
    "\n",
    "df_img_init['p1_dog'].value_counts()"
   ]
  },
  {
   "cell_type": "code",
   "execution_count": 35,
   "metadata": {
    "nbpresent": {
     "id": "8de70004-725e-4e17-ba0b-8745cefcadb4"
    }
   },
   "outputs": [
    {
     "data": {
      "text/plain": [
       "True     1553\n",
       "False     522\n",
       "Name: p2_dog, dtype: int64"
      ]
     },
     "execution_count": 35,
     "metadata": {},
     "output_type": "execute_result"
    },
    {
     "data": {
      "image/png": "[encoded data removed]",
      "text/plain": [
       "<matplotlib.figure.Figure at 0x7fa9f43c4b00>"
      ]
     },
     "metadata": {
      "needs_background": "light"
     },
     "output_type": "display_data"
    }
   ],
   "source": [
    "# Checking for dog2\n",
    "plt.figure(figsize=(15,7))\n",
    "sns.countplot(df_img_init.p2_dog)\n",
    "\n",
    "df_img_init['p2_dog'].value_counts()"
   ]
  },
  {
   "cell_type": "code",
   "execution_count": 36,
   "metadata": {
    "nbpresent": {
     "id": "e4e9659a-98a1-4a7f-b59f-c6cbd20efb63"
    }
   },
   "outputs": [
    {
     "data": {
      "text/plain": [
       "True     1499\n",
       "False     576\n",
       "Name: p3_dog, dtype: int64"
      ]
     },
     "execution_count": 36,
     "metadata": {},
     "output_type": "execute_result"
    },
    {
     "data": {
      "image/png": "[encoded data removed]",
      "text/plain": [
       "<matplotlib.figure.Figure at 0x7fa9f438e438>"
      ]
     },
     "metadata": {
      "needs_background": "light"
     },
     "output_type": "display_data"
    }
   ],
   "source": [
    "# Checking for dog3\n",
    "plt.figure(figsize=(15,7))\n",
    "sns.countplot(df_img_init.p3_dog)\n",
    "\n",
    "df_img_init['p3_dog'].value_counts()"
   ]
  },
  {
   "cell_type": "code",
   "execution_count": 37,
   "metadata": {
    "nbpresent": {
     "id": "508c2f60-f563-4912-bf27-688988bc2f90"
    }
   },
   "outputs": [
    {
     "data": {
      "text/plain": [
       "0    1243\n",
       "1     347\n",
       "3     324\n",
       "2     161\n",
       "Name: no_dog, dtype: int64"
      ]
     },
     "execution_count": 37,
     "metadata": {},
     "output_type": "execute_result"
    },
    {
     "data": {
      "image/png": "[encoded data removed]",
      "text/plain": [
       "<matplotlib.figure.Figure at 0x7fa9f43361d0>"
      ]
     },
     "metadata": {
      "needs_background": "light"
     },
     "output_type": "display_data"
    }
   ],
   "source": [
    "# Defining a check to verify if it's a dog\n",
    "\n",
    "# We start off by transforming category in 0 or 1\n",
    "# We make the use of a temporarily created new category \n",
    "\n",
    "# Generating a copy \n",
    "df_img_2 = df_img_init.copy()\n",
    "\n",
    "# Defining a procedure to convert the column into a bi-variate 0 and 1\n",
    "df_img_2['p1_dog'] = df_img_2['p1_dog'].apply(lambda x: 0 if x==True else 1)\n",
    "df_img_2['p2_dog'] = df_img_2['p2_dog'].apply(lambda x: 0 if x==True else 1)\n",
    "df_img_2['p3_dog'] = df_img_2['p3_dog'].apply(lambda x: 0 if x==True else 1)\n",
    "\n",
    "# Creating a new column \n",
    "df_img_2['no_dog'] = df_img_2.iloc[:,[5,8,11]].sum(axis=1)\n",
    "\n",
    "# Measuring the number \n",
    "plt.figure(figsize=(15,7))\n",
    "sns.countplot(df_img_2.no_dog)\n",
    "\n",
    "# Getting the Count \n",
    "df_img_2['no_dog'].value_counts()"
   ]
  },
  {
   "cell_type": "markdown",
   "metadata": {
    "nbpresent": {
     "id": "d913de5e-c78c-4a89-8908-43446029f12c"
    }
   },
   "source": [
    "### Observations : \n",
    "\n",
    "- As seen above, for a total of 324 rows in the Data, no dogs are recognized."
   ]
  },
  {
   "cell_type": "markdown",
   "metadata": {
    "nbpresent": {
     "id": "b69b2fa6-a5a8-4301-bd9d-933a91cb577a"
    }
   },
   "source": [
    "#### Assessment  Summary\n",
    "\n",
    "- We can observe that the columns \"p1\", \"p2\" and \"p3\" possess inconsistent writings.\n",
    "- As seen above, for a total of 324 rows in the Data, no dogs are recognized."
   ]
  },
  {
   "cell_type": "markdown",
   "metadata": {
    "nbpresent": {
     "id": "95359868-2157-46e3-938b-c723b019f760"
    }
   },
   "source": [
    "### 2.3 Assessing info"
   ]
  },
  {
   "cell_type": "code",
   "execution_count": 38,
   "metadata": {
    "nbpresent": {
     "id": "3062f73c-7e71-4ddd-b5fc-392eb8262fd9"
    }
   },
   "outputs": [
    {
     "data": {
      "text/html": [
       "<div>\n",
       "<style scoped>\n",
       "    .dataframe tbody tr th:only-of-type {\n",
       "        vertical-align: middle;\n",
       "    }\n",
       "\n",
       "    .dataframe tbody tr th {\n",
       "        vertical-align: top;\n",
       "    }\n",
       "\n",
       "    .dataframe thead th {\n",
       "        text-align: right;\n",
       "    }\n",
       "</style>\n",
       "<table border=\"1\" class=\"dataframe\">\n",
       "  <thead>\n",
       "    <tr style=\"text-align: right;\">\n",
       "      <th></th>\n",
       "      <th>favorite_count</th>\n",
       "      <th>id</th>\n",
       "      <th>retweet_count</th>\n",
       "    </tr>\n",
       "  </thead>\n",
       "  <tbody>\n",
       "    <tr>\n",
       "      <th>0</th>\n",
       "      <td>39007</td>\n",
       "      <td>892420643555336193</td>\n",
       "      <td>8658</td>\n",
       "    </tr>\n",
       "    <tr>\n",
       "      <th>1</th>\n",
       "      <td>33395</td>\n",
       "      <td>892177421306343426</td>\n",
       "      <td>6358</td>\n",
       "    </tr>\n",
       "    <tr>\n",
       "      <th>2</th>\n",
       "      <td>25181</td>\n",
       "      <td>891815181378084864</td>\n",
       "      <td>4223</td>\n",
       "    </tr>\n",
       "    <tr>\n",
       "      <th>3</th>\n",
       "      <td>42360</td>\n",
       "      <td>891689557279858688</td>\n",
       "      <td>8769</td>\n",
       "    </tr>\n",
       "    <tr>\n",
       "      <th>4</th>\n",
       "      <td>40520</td>\n",
       "      <td>891327558926688256</td>\n",
       "      <td>9536</td>\n",
       "    </tr>\n",
       "  </tbody>\n",
       "</table>\n",
       "</div>"
      ],
      "text/plain": [
       "   favorite_count                  id  retweet_count\n",
       "0           39007  892420643555336193           8658\n",
       "1           33395  892177421306343426           6358\n",
       "2           25181  891815181378084864           4223\n",
       "3           42360  891689557279858688           8769\n",
       "4           40520  891327558926688256           9536"
      ]
     },
     "execution_count": 38,
     "metadata": {},
     "output_type": "execute_result"
    }
   ],
   "source": [
    "# Viewing the data structure.\n",
    "df_gat_data.head()"
   ]
  },
  {
   "cell_type": "code",
   "execution_count": 39,
   "metadata": {
    "nbpresent": {
     "id": "171ca9c0-b3a1-4334-806e-aa5278e03861"
    }
   },
   "outputs": [
    {
     "name": "stdout",
     "output_type": "stream",
     "text": [
      "<class 'pandas.core.frame.DataFrame'>\n",
      "RangeIndex: 2345 entries, 0 to 2344\n",
      "Data columns (total 3 columns):\n",
      "favorite_count    2345 non-null int64\n",
      "id                2345 non-null int64\n",
      "retweet_count     2345 non-null int64\n",
      "dtypes: int64(3)\n",
      "memory usage: 55.0 KB\n"
     ]
    }
   ],
   "source": [
    "# Getting insights on the data.\n",
    "df_gat_data.info()"
   ]
  },
  {
   "cell_type": "code",
   "execution_count": 40,
   "metadata": {
    "nbpresent": {
     "id": "424f78b3-81cb-4391-99ff-0a8839d9953b"
    }
   },
   "outputs": [
    {
     "data": {
      "text/plain": [
       "0"
      ]
     },
     "execution_count": 40,
     "metadata": {},
     "output_type": "execute_result"
    }
   ],
   "source": [
    "# Finding the count of Duplicated entries.\n",
    "df_gat_data.duplicated().sum()"
   ]
  },
  {
   "cell_type": "markdown",
   "metadata": {
    "nbpresent": {
     "id": "7e46f673-ff74-4473-b35d-33bca20c7600"
    }
   },
   "source": [
    "### 2.4 Assessing conclusion\n"
   ]
  },
  {
   "cell_type": "markdown",
   "metadata": {
    "nbpresent": {
     "id": "fa7eef96-7119-45ee-a385-73ff372cd9b3"
    }
   },
   "source": [
    "> ####  Archive\n",
    "    - The values corresponding to \"tweet_id\" column, currently present as 'INT' values, have to be of 'string' data types.\n",
    "    - The rows need to be suppressed if the value is a non-null to conserve only original tweets for the coulumn data corresponding to  : \"in_reply_to_status_id\", \"in_reply_to_user_id\", \"retweeted_status_id\", \"retweeted_status_user_id\", \"retweeted_statud_timestamp\".\n",
    "    - The source contains html residues.\n",
    "    - Some entries are missing expanded URL's.\n",
    "    - The variables doggo, floofer, pupper and puppo present in the data as depicted above, all represent one single variable and as per the tidyness rule, should be a part of a single column.\n",
    "    - We can observe that there are some 'None' objects present in \"doggo\", \"floofer\", \"pupper\" and \"puppo\" which have to be convert into 'NaN'.\n",
    "    - 14 rows are in two categories\n",
    "    - 'None' object in \"doggo\", \"floofer\", \"pupper\" and \"puppo\" have to be converted into 'NaN'.\n",
    "    - The \"timestamp\" is present as an object, which is supposed to be converted into datetime to be exploitable.\n",
    "    - The \"name\" column has multiple stop words present.\n",
    "    - As evident from above, the \"name\" column has a total of 745 'None' strings present.\n",
    "    - We can clearly visualize from above that a total of 639 double links are present within \"expanded_urls\" column data.\n",
    "    - We can see that a total of 23 ratings do not have the denominator value as 10, i.e. these many values are not rated out of 10.\n",
    "    - Thus, we can see that a total of 440 entries have a Numerator value less than 10.\n",
    "    - It is pretty evident from the above result that we are getting incorrect or false data corresponding to the Numerators, when it has a Decimal Value, for all numerators in \"rating_numerator\" column.\n",
    "\n",
    "\n",
    "> #### Image\n",
    "    - The values corresponding to \"tweet_id\" column, currently present as 'INT' values, have to be of 'string' data types.\n",
    "    - We can observe that the columns \"p1\", \"p2\" and \"p3\" possess inconsistent writings.\n",
    "    - As seen above, for a total of 324 rows in the Data, no dogs are recognized.\n",
    "\n",
    "> #### Info\n",
    "    - The 'id' has to be of 'string' data-type.\n",
    "\n",
    "> #### Global\n",
    "    - The len of each document should be same.\n",
    "    - We need to have one dataframe."
   ]
  },
  {
   "cell_type": "markdown",
   "metadata": {
    "nbpresent": {
     "id": "44070bb1-5a2b-4427-b9e0-6328f4f36c84"
    }
   },
   "source": [
    "# 3. Cleaning Data\n",
    "<a id='cleaning_data'></a>"
   ]
  },
  {
   "cell_type": "code",
   "execution_count": 41,
   "metadata": {
    "nbpresent": {
     "id": "2974e0e8-d8cc-443d-ab66-86cbe29e873d"
    }
   },
   "outputs": [],
   "source": [
    "# Creating copies of the Dataframes for Cleaning\n",
    "\n",
    "clean_archive=archive.copy()\n",
    "clean_image=df_img_init.copy()\n",
    "clean_info=df_gat_data.copy()"
   ]
  },
  {
   "cell_type": "markdown",
   "metadata": {
    "nbpresent": {
     "id": "54a553fc-bb90-4213-b950-84820c5fd917"
    }
   },
   "source": [
    "### 3.1 Cleaning Archive\n"
   ]
  },
  {
   "cell_type": "markdown",
   "metadata": {
    "nbpresent": {
     "id": "b1bd5bba-0669-493d-944c-639bbe97f822"
    }
   },
   "source": [
    "#### Resolving the Double-Links error and generating URLs when missing "
   ]
  },
  {
   "cell_type": "code",
   "execution_count": 42,
   "metadata": {
    "nbpresent": {
     "id": "f26e4c5c-aa5b-4568-a01c-f1d39cd583f5"
    }
   },
   "outputs": [],
   "source": [
    "# Cleaning the URLs: \n",
    "\n",
    "for i in range(len(clean_archive)):\n",
    "    twt_id=clean_archive['tweet_id'][i]\n",
    "    url = 'https://twitter.com/dog_rates/status/{}'.format(twt_id)\n",
    "    clean_archive['expanded_urls'].replace(clean_archive['expanded_urls'][i],url,inplace=True)\n"
   ]
  },
  {
   "cell_type": "code",
   "execution_count": 43,
   "metadata": {},
   "outputs": [
    {
     "name": "stdout",
     "output_type": "stream",
     "text": [
      "<class 'pandas.core.frame.DataFrame'>\n",
      "RangeIndex: 2356 entries, 0 to 2355\n",
      "Data columns (total 17 columns):\n",
      "tweet_id                      2356 non-null int64\n",
      "in_reply_to_status_id         78 non-null float64\n",
      "in_reply_to_user_id           78 non-null float64\n",
      "timestamp                     2356 non-null object\n",
      "source                        2356 non-null object\n",
      "text                          2356 non-null object\n",
      "retweeted_status_id           181 non-null float64\n",
      "retweeted_status_user_id      181 non-null float64\n",
      "retweeted_status_timestamp    181 non-null object\n",
      "expanded_urls                 2356 non-null object\n",
      "rating_numerator              2356 non-null int64\n",
      "rating_denominator            2356 non-null int64\n",
      "name                          2356 non-null object\n",
      "doggo                         2356 non-null object\n",
      "floofer                       2356 non-null object\n",
      "pupper                        2356 non-null object\n",
      "puppo                         2356 non-null object\n",
      "dtypes: float64(4), int64(3), object(10)\n",
      "memory usage: 313.0+ KB\n"
     ]
    }
   ],
   "source": [
    "# Verifying the changes made in the previous cell\n",
    "\n",
    "clean_archive.info()"
   ]
  },
  {
   "cell_type": "markdown",
   "metadata": {
    "nbpresent": {
     "id": "d305871b-dece-4b6f-bb3a-0493466949aa"
    }
   },
   "source": [
    "#### Suppressing the rows with re-tweet and unnecessary columns"
   ]
  },
  {
   "cell_type": "code",
   "execution_count": 44,
   "metadata": {},
   "outputs": [],
   "source": [
    "# Dropping the unnecessary rows\n",
    "\n",
    "clean_archive = clean_archive[clean_archive['in_reply_to_status_id'].isnull()]\n",
    "clean_archive = clean_archive[clean_archive['retweeted_status_id'].isnull()]"
   ]
  },
  {
   "cell_type": "code",
   "execution_count": 45,
   "metadata": {},
   "outputs": [],
   "source": [
    "# Dropping the unnecessary columns\n",
    "\n",
    "clean_archive.drop(['in_reply_to_status_id','in_reply_to_user_id','retweeted_status_id',\n",
    "           'retweeted_status_user_id','retweeted_status_timestamp'], axis=1, inplace = True)"
   ]
  },
  {
   "cell_type": "code",
   "execution_count": 46,
   "metadata": {},
   "outputs": [
    {
     "name": "stdout",
     "output_type": "stream",
     "text": [
      "259\n"
     ]
    },
    {
     "data": {
      "text/html": [
       "<div>\n",
       "<style scoped>\n",
       "    .dataframe tbody tr th:only-of-type {\n",
       "        vertical-align: middle;\n",
       "    }\n",
       "\n",
       "    .dataframe tbody tr th {\n",
       "        vertical-align: top;\n",
       "    }\n",
       "\n",
       "    .dataframe thead th {\n",
       "        text-align: right;\n",
       "    }\n",
       "</style>\n",
       "<table border=\"1\" class=\"dataframe\">\n",
       "  <thead>\n",
       "    <tr style=\"text-align: right;\">\n",
       "      <th></th>\n",
       "      <th>tweet_id</th>\n",
       "      <th>timestamp</th>\n",
       "      <th>source</th>\n",
       "      <th>text</th>\n",
       "      <th>expanded_urls</th>\n",
       "      <th>rating_numerator</th>\n",
       "      <th>rating_denominator</th>\n",
       "      <th>name</th>\n",
       "      <th>doggo</th>\n",
       "      <th>floofer</th>\n",
       "      <th>pupper</th>\n",
       "      <th>puppo</th>\n",
       "    </tr>\n",
       "  </thead>\n",
       "  <tbody>\n",
       "  </tbody>\n",
       "</table>\n",
       "</div>"
      ],
      "text/plain": [
       "Empty DataFrame\n",
       "Columns: [tweet_id, timestamp, source, text, expanded_urls, rating_numerator, rating_denominator, name, doggo, floofer, pupper, puppo]\n",
       "Index: []"
      ]
     },
     "execution_count": 46,
     "metadata": {},
     "output_type": "execute_result"
    }
   ],
   "source": [
    "# Verifying the changes made above \n",
    "\n",
    "print(len(archive)-len(clean_archive))\n",
    "clean_archive.head(0)"
   ]
  },
  {
   "cell_type": "markdown",
   "metadata": {
    "nbpresent": {
     "id": "4e1065ea-43a6-4096-a026-91d470ac94b8"
    }
   },
   "source": [
    "#### Cleaning the  HTML residues present in the Source"
   ]
  },
  {
   "cell_type": "code",
   "execution_count": 47,
   "metadata": {
    "nbpresent": {
     "id": "29d10854-057b-4b6a-ad22-ac15a78180a2"
    }
   },
   "outputs": [],
   "source": [
    "# Defing the procedure\n",
    "\n",
    "clean_archive['source'] = clean_archive['source'].map(lambda x: x.lstrip('<a href=').rstrip('</a>'))\n"
   ]
  },
  {
   "cell_type": "code",
   "execution_count": 48,
   "metadata": {
    "nbpresent": {
     "id": "466a91b2-7b94-4585-a2ec-eda733a7708c"
    }
   },
   "outputs": [
    {
     "data": {
      "text/plain": [
       "0    \"http://twitter.com/download/iphone\" rel=\"nofo...\n",
       "1    \"http://twitter.com/download/iphone\" rel=\"nofo...\n",
       "2    \"http://twitter.com/download/iphone\" rel=\"nofo...\n",
       "3    \"http://twitter.com/download/iphone\" rel=\"nofo...\n",
       "4    \"http://twitter.com/download/iphone\" rel=\"nofo...\n",
       "Name: source, dtype: object"
      ]
     },
     "execution_count": 48,
     "metadata": {},
     "output_type": "execute_result"
    }
   ],
   "source": [
    "# Verifying whether the changes have been impacted successfully\n",
    "\n",
    "clean_archive['source'].head()"
   ]
  },
  {
   "cell_type": "markdown",
   "metadata": {
    "nbpresent": {
     "id": "58d8872c-fcba-44fc-a7eb-9f5c3d768b5d"
    }
   },
   "source": [
    "#### Changing the Data-type of ''timestamp'' to 'datetime'"
   ]
  },
  {
   "cell_type": "code",
   "execution_count": 49,
   "metadata": {
    "nbpresent": {
     "id": "610d3d76-9fff-4f65-8fd2-75ccb4fb1163"
    }
   },
   "outputs": [],
   "source": [
    "# Making the changes\n",
    "\n",
    "clean_archive['timestamp'] = pd.to_datetime(clean_archive['timestamp'])"
   ]
  },
  {
   "cell_type": "code",
   "execution_count": 50,
   "metadata": {
    "nbpresent": {
     "id": "6934f237-8a8e-40bc-a575-bf4e19eb5c7f"
    }
   },
   "outputs": [
    {
     "name": "stdout",
     "output_type": "stream",
     "text": [
      "<class 'pandas.core.frame.DataFrame'>\n",
      "Int64Index: 2097 entries, 0 to 2355\n",
      "Data columns (total 12 columns):\n",
      "tweet_id              2097 non-null int64\n",
      "timestamp             2097 non-null datetime64[ns]\n",
      "source                2097 non-null object\n",
      "text                  2097 non-null object\n",
      "expanded_urls         2097 non-null object\n",
      "rating_numerator      2097 non-null int64\n",
      "rating_denominator    2097 non-null int64\n",
      "name                  2097 non-null object\n",
      "doggo                 2097 non-null object\n",
      "floofer               2097 non-null object\n",
      "pupper                2097 non-null object\n",
      "puppo                 2097 non-null object\n",
      "dtypes: datetime64[ns](1), int64(3), object(8)\n",
      "memory usage: 213.0+ KB\n"
     ]
    }
   ],
   "source": [
    "# Verifying the changes \n",
    "\n",
    "clean_archive.info()"
   ]
  },
  {
   "cell_type": "markdown",
   "metadata": {},
   "source": [
    "#### Changing the Data-type of \"tweet_id\" from 'INT' to 'string' "
   ]
  },
  {
   "cell_type": "code",
   "execution_count": 51,
   "metadata": {},
   "outputs": [],
   "source": [
    "# Making the change in data-type\n",
    "\n",
    "clean_archive['tweet_id'] = clean_archive['tweet_id'].astype(str)"
   ]
  },
  {
   "cell_type": "code",
   "execution_count": 52,
   "metadata": {},
   "outputs": [
    {
     "name": "stdout",
     "output_type": "stream",
     "text": [
      "<class 'pandas.core.frame.DataFrame'>\n",
      "Int64Index: 2097 entries, 0 to 2355\n",
      "Data columns (total 12 columns):\n",
      "tweet_id              2097 non-null object\n",
      "timestamp             2097 non-null datetime64[ns]\n",
      "source                2097 non-null object\n",
      "text                  2097 non-null object\n",
      "expanded_urls         2097 non-null object\n",
      "rating_numerator      2097 non-null int64\n",
      "rating_denominator    2097 non-null int64\n",
      "name                  2097 non-null object\n",
      "doggo                 2097 non-null object\n",
      "floofer               2097 non-null object\n",
      "pupper                2097 non-null object\n",
      "puppo                 2097 non-null object\n",
      "dtypes: datetime64[ns](1), int64(2), object(9)\n",
      "memory usage: 213.0+ KB\n"
     ]
    }
   ],
   "source": [
    "# Verifying the changes made\n",
    "\n",
    "clean_archive.info()"
   ]
  },
  {
   "cell_type": "markdown",
   "metadata": {
    "nbpresent": {
     "id": "b0c4aaa8-349f-4a24-ab5e-e355157a6451"
    }
   },
   "source": [
    "#### Suppressing the 'Stop-Words' in \"name\" column"
   ]
  },
  {
   "cell_type": "code",
   "execution_count": 53,
   "metadata": {
    "nbpresent": {
     "id": "702b54c1-009d-4d29-b1fd-20243b83f044"
    }
   },
   "outputs": [],
   "source": [
    "# From manual observation, it is apparent that the Stop Words replace Name \n",
    "# Hence we suppress stop words as :  \n",
    "for shabd in clean_archive['name']:\n",
    "    if shabd in ENGLISH_STOP_WORDS:\n",
    "        clean_archive['name']=clean_archive['name'].where(clean_archive['name']!=shabd, np.NaN)"
   ]
  },
  {
   "cell_type": "code",
   "execution_count": 54,
   "metadata": {
    "nbpresent": {
     "id": "075a289e-24db-47a7-b18c-46a83b429c77"
    }
   },
   "outputs": [
    {
     "name": "stdout",
     "output_type": "stream",
     "text": [
      "The column  name  has  0  stop words.\n"
     ]
    }
   ],
   "source": [
    "# Verifying the changes made\n",
    "\n",
    "stop_words(clean_archive['name'],'name')"
   ]
  },
  {
   "cell_type": "markdown",
   "metadata": {
    "nbpresent": {
     "id": "ad681c7d-3233-4601-8bef-367d45e000f6"
    }
   },
   "source": [
    "#### Converting the \"name\" column into lower case"
   ]
  },
  {
   "cell_type": "code",
   "execution_count": 55,
   "metadata": {
    "nbpresent": {
     "id": "04288122-75f0-4559-bdd3-ec7b34e3dbaa"
    }
   },
   "outputs": [
    {
     "data": {
      "text/plain": [
       "0        phineas\n",
       "1          tilly\n",
       "2         archie\n",
       "3          darla\n",
       "4       franklin\n",
       "5           none\n",
       "6            jax\n",
       "7           none\n",
       "8           zoey\n",
       "9         cassie\n",
       "10          koda\n",
       "11         bruno\n",
       "12          none\n",
       "13           ted\n",
       "14        stuart\n",
       "15        oliver\n",
       "16           jim\n",
       "17          zeke\n",
       "18       ralphus\n",
       "20        gerald\n",
       "21       jeffrey\n",
       "22           NaN\n",
       "23        canela\n",
       "24          none\n",
       "25          none\n",
       "26          maya\n",
       "27        mingus\n",
       "28         derek\n",
       "29        roscoe\n",
       "31       waffles\n",
       "          ...   \n",
       "2326       quite\n",
       "2327         NaN\n",
       "2328        none\n",
       "2329        none\n",
       "2330        none\n",
       "2331        none\n",
       "2332        none\n",
       "2333         NaN\n",
       "2334         NaN\n",
       "2335         NaN\n",
       "2336        none\n",
       "2337        none\n",
       "2338        none\n",
       "2339        none\n",
       "2340        none\n",
       "2341        none\n",
       "2342        none\n",
       "2343        none\n",
       "2344        none\n",
       "2345         NaN\n",
       "2346         NaN\n",
       "2347         NaN\n",
       "2348         NaN\n",
       "2349         NaN\n",
       "2350         NaN\n",
       "2351        none\n",
       "2352         NaN\n",
       "2353         NaN\n",
       "2354         NaN\n",
       "2355        none\n",
       "Name: name, Length: 2097, dtype: object"
      ]
     },
     "execution_count": 55,
     "metadata": {},
     "output_type": "execute_result"
    }
   ],
   "source": [
    "# Converting into lower case\n",
    "clean_archive['name'] = clean_archive['name'].str.lower()\n",
    "\n",
    "# Verifying the changes\n",
    "clean_archive['name']"
   ]
  },
  {
   "cell_type": "markdown",
   "metadata": {
    "nbpresent": {
     "id": "0d2032f2-8c5b-4762-827a-9a2d4b0aacb6"
    }
   },
   "source": [
    "#### Replacing 'None' string with 'NaN'"
   ]
  },
  {
   "cell_type": "code",
   "execution_count": 56,
   "metadata": {
    "nbpresent": {
     "id": "195dbb6d-99c9-46c1-807d-c5719a9823a1"
    }
   },
   "outputs": [],
   "source": [
    "# Making the required changes\n",
    "\n",
    "clean_archive['name'] = clean_archive['name'].where(clean_archive['name'] != shabd, np.NaN) \n",
    "clean_archive['doggo'] = clean_archive['doggo'].where(clean_archive['doggo'] != shabd, np.NaN) \n",
    "clean_archive['floofer'] = clean_archive['floofer'].where(clean_archive['floofer'] != shabd, np.NaN) \n",
    "clean_archive['pupper'] = clean_archive['pupper'].where(clean_archive['pupper'] != shabd, np.NaN) \n",
    "clean_archive['puppo'] = clean_archive['puppo'].where(clean_archive['puppo'] != shabd, np.NaN) "
   ]
  },
  {
   "cell_type": "code",
   "execution_count": 57,
   "metadata": {
    "nbpresent": {
     "id": "f989ebc3-37b0-45af-b84e-ad9e50dda1f5"
    }
   },
   "outputs": [
    {
     "name": "stdout",
     "output_type": "stream",
     "text": [
      "The Column  name  has  0 None entries present.\n",
      "The Column  doggo  has  0 None entries present.\n",
      "The Column  floofer  has  0 None entries present.\n",
      "The Column  pupper  has  0 None entries present.\n",
      "The Column  puppo  has  0 None entries present.\n"
     ]
    }
   ],
   "source": [
    "# Verifying the changes made\n",
    "\n",
    "detect_none(clean_archive['name'],'name')\n",
    "detect_none(clean_archive['doggo'],'doggo')\n",
    "detect_none(clean_archive['floofer'],'floofer')\n",
    "detect_none(clean_archive['pupper'],'pupper')\n",
    "detect_none(clean_archive['puppo'],'puppo')"
   ]
  },
  {
   "cell_type": "markdown",
   "metadata": {
    "nbpresent": {
     "id": "e16b2606-61ce-4371-a8e8-e1d4cba83583"
    }
   },
   "source": [
    "#### Monitoring the Numerator and Denominator Values"
   ]
  },
  {
   "cell_type": "code",
   "execution_count": 58,
   "metadata": {
    "nbpresent": {
     "id": "a9eea995-91b5-41aa-92ec-6363fa23b7c2"
    }
   },
   "outputs": [
    {
     "name": "stdout",
     "output_type": "stream",
     "text": [
      "Ex 1:  After so many requests, this is Bretagne. She was the last surviving 9/11 search dog, and our second ever 14/10. RIP https://t.co/XAVDNDaVgQ\n",
      "Ex 2:  Happy 4/20 from the squad! 13/10 for all https://t.co/eV1diwds8a\n",
      "Ex 3:  This is an Albanian 3 1/2 legged  Episcopalian. Loves well-polished hardwood flooring. Penis on the collar. 9/10 https://t.co/d9NcXFKwLv\n"
     ]
    }
   ],
   "source": [
    "# Observing the Numerators with value under ten\n",
    "\n",
    "print('Ex 1: ',clean_archive['text'][1068])\n",
    "print('Ex 2: ',clean_archive['text'][1165])\n",
    "print('Ex 3: ',clean_archive['text'][2335])"
   ]
  },
  {
   "cell_type": "markdown",
   "metadata": {
    "nbpresent": {
     "id": "6de9d93f-c068-4ab6-bf59-210627894b71"
    }
   },
   "source": [
    "Here, we observe two different cases wherein the ratings are not following the standards. \n",
    "\n",
    "In Case 1, it is done so delibarately and is not an extraction problem, so we would be keeping it.\n",
    "Whereas in Case 2, while performing the extraction, it chooses only the first fraction in the message, hence we should correct it."
   ]
  },
  {
   "cell_type": "code",
   "execution_count": 59,
   "metadata": {
    "nbpresent": {
     "id": "59bdf42b-8ed4-48e5-bb08-41b2385b3686"
    }
   },
   "outputs": [
    {
     "name": "stdout",
     "output_type": "stream",
     "text": [
      "After so many requests, this is Bretagne. She was the last surviving 9/11 search dog, and our second ever 14/10. RIP https://t.co/XAVDNDaVgQ\n",
      "Int64Index([1068], dtype='int64')\n",
      "Happy 4/20 from the squad! 13/10 for all https://t.co/eV1diwds8a\n",
      "Int64Index([1165], dtype='int64')\n",
      "This is Bluebert. He just saw that both #FinalFur match ups are split 50/50. Amazed af. 11/10 https://t.co/Kky1DPG4iq\n",
      "Int64Index([1202], dtype='int64')\n",
      "This is Darrel. He just robbed a 7/11 and is in a high speed police chase. Was just spotted by the helicopter 10/10 https://t.co/7EsP8LmSp5\n",
      "Int64Index([1662], dtype='int64')\n",
      "This is an Albanian 3 1/2 legged  Episcopalian. Loves well-polished hardwood flooring. Penis on the collar. 9/10 https://t.co/d9NcXFKwLv\n",
      "Int64Index([2335], dtype='int64')\n"
     ]
    }
   ],
   "source": [
    "# Defining a new dataframe filtered with the items to analyze \n",
    "to_analyze = clean_archive.loc[clean_archive['rating_denominator']!=10]\n",
    "\n",
    "# Looking up the suspected data \n",
    "for i in to_analyze['text']:\n",
    "    if '/10' in i:\n",
    "        print(i)\n",
    "        print(to_analyze[to_analyze['text']==i].index)"
   ]
  },
  {
   "cell_type": "code",
   "execution_count": 60,
   "metadata": {
    "nbpresent": {
     "id": "91c930c3-d2ef-43ed-a409-0e1b7e8bd3e0"
    }
   },
   "outputs": [],
   "source": [
    "# Manual replacement of data \n",
    "clean_archive.loc[clean_archive.index == 1068, 'rating_numerator'] = 14\n",
    "clean_archive.loc[clean_archive.index == 1165, 'rating_numerator'] = 13\n",
    "clean_archive.loc[clean_archive.index == 1202, 'rating_numerator'] = 11\n",
    "clean_archive.loc[clean_archive.index == 1662, 'rating_numerator'] = 10\n",
    "clean_archive.loc[clean_archive.index == 2335, 'rating_numerator'] = 9\n",
    "\n",
    "clean_archive.loc[clean_archive.index == 1068, 'rating_denominator'] = 10\n",
    "clean_archive.loc[clean_archive.index == 1165, 'rating_denominator'] = 10\n",
    "clean_archive.loc[clean_archive.index == 1202, 'rating_denominator'] = 10\n",
    "clean_archive.loc[clean_archive.index == 1662, 'rating_denominator'] = 10\n",
    "clean_archive.loc[clean_archive.index == 2335, 'rating_denominator'] = 10"
   ]
  },
  {
   "cell_type": "markdown",
   "metadata": {},
   "source": [
    "#### Fixing the Numerators containing Decimal Values"
   ]
  },
  {
   "cell_type": "code",
   "execution_count": 61,
   "metadata": {},
   "outputs": [
    {
     "name": "stdout",
     "output_type": "stream",
     "text": [
      "Index is :  45 \n",
      " Text is :  This is Bella. She hopes her smile made you smile. If not, she is also offering you her favorite monkey. 13.5/10 https://t.co/qjrljjt948 \n",
      "The Numerator is :  5 \n",
      "\n",
      "Index is :  340 \n",
      " Text is :  RT @dog_rates: This is Logan, the Chow who lived. He solemnly swears he's up to lots of good. H*ckin magical af 9.75/10 https://t.co/yBO5wu… \n",
      "The Numerator is :  75 \n",
      "\n",
      "Index is :  695 \n",
      " Text is :  This is Logan, the Chow who lived. He solemnly swears he's up to lots of good. H*ckin magical af 9.75/10 https://t.co/yBO5wuqaPS \n",
      "The Numerator is :  75 \n",
      "\n",
      "Index is :  763 \n",
      " Text is :  This is Sophie. She's a Jubilant Bush Pupper. Super h*ckin rare. Appears at random just to smile at the locals. 11.27/10 would smile back https://t.co/QFaUiIHxHq \n",
      "The Numerator is :  27 \n",
      "\n",
      "Index is :  1689 \n",
      " Text is :  I've been told there's a slight possibility he's checking his mirror. We'll bump to 9.5/10. Still a menace \n",
      "The Numerator is :  5 \n",
      "\n",
      "Index is :  1712 \n",
      " Text is :  Here we have uncovered an entire battalion of holiday puppers. Average of 11.26/10 https://t.co/eNm2S6p9BD \n",
      "The Numerator is :  26 \n",
      "\n"
     ]
    }
   ],
   "source": [
    "# Locating the entries with Numerator containing Decimal Values\n",
    "\n",
    "for row in test['text']:\n",
    "    detect = '(\\d+\\.\\d+)\\/(\\d+)'\n",
    "    srch = re.search(detect,row)\n",
    "    if srch != None:\n",
    "        Ind=test.loc[test['text']==row].index[0]\n",
    "        Txt = archive.text[Ind]\n",
    "        Num = archive.rating_numerator[Ind]\n",
    "        print('Index is : ',Ind,'\\n',\n",
    "              'Text is : ',Txt,'\\n'\n",
    "              'The Numerator is : ',Num,'\\n',\n",
    "             )\n",
    "        "
   ]
  },
  {
   "cell_type": "code",
   "execution_count": 62,
   "metadata": {},
   "outputs": [],
   "source": [
    "# Manual replacement of Data \n",
    "\n",
    "clean_archive.loc[clean_archive.index == 45, 'rating_numerator'] = 13.5\n",
    "clean_archive.loc[clean_archive.index == 340, 'rating_numerator'] = 9.75\n",
    "clean_archive.loc[clean_archive.index == 695, 'rating_numerator'] = 9.75\n",
    "clean_archive.loc[clean_archive.index == 763, 'rating_numerator'] = 11.27\n",
    "clean_archive.loc[clean_archive.index == 1689, 'rating_numerator'] = 9.5\n",
    "clean_archive.loc[clean_archive.index == 1712, 'rating_numerator'] = 11.26"
   ]
  },
  {
   "cell_type": "code",
   "execution_count": 63,
   "metadata": {},
   "outputs": [
    {
     "data": {
      "text/plain": [
       "tweet_id                                             883482846933004288\n",
       "timestamp                                           2017-07-08 00:28:19\n",
       "source                \"http://twitter.com/download/iphone\" rel=\"nofo...\n",
       "text                  This is Bella. She hopes her smile made you sm...\n",
       "expanded_urls         https://twitter.com/dog_rates/status/883482846...\n",
       "rating_numerator                                                   13.5\n",
       "rating_denominator                                                   10\n",
       "name                                                              bella\n",
       "doggo                                                               NaN\n",
       "floofer                                                             NaN\n",
       "pupper                                                              NaN\n",
       "puppo                                                               NaN\n",
       "Name: 45, dtype: object"
      ]
     },
     "execution_count": 63,
     "metadata": {},
     "output_type": "execute_result"
    }
   ],
   "source": [
    "# Verifying the changes made\n",
    "\n",
    "clean_archive.loc[45]"
   ]
  },
  {
   "cell_type": "markdown",
   "metadata": {
    "nbpresent": {
     "id": "26aacf58-69d8-41b2-853a-ef2d5cdc48a1"
    }
   },
   "source": [
    "#### Dogs stage"
   ]
  },
  {
   "cell_type": "markdown",
   "metadata": {
    "nbpresent": {
     "id": "6821e2e8-9257-489e-824e-5f3dc1944849"
    }
   },
   "source": [
    "##### Creating a column"
   ]
  },
  {
   "cell_type": "code",
   "execution_count": 64,
   "metadata": {
    "nbpresent": {
     "id": "acb6ae88-67ad-432b-8cfc-23b5845df30c"
    }
   },
   "outputs": [],
   "source": [
    "# Defining a function aimed at creating a column with all stage\n",
    "\n",
    "def Dog_Stage(row):\n",
    "    # Defining a list to store the data\n",
    "    stg_lst = []\n",
    "    # Setting the conditional\n",
    "    if row['doggo'] == 'doggo':\n",
    "        # Adding the entry to the list if it satisfies the condition\n",
    "        stg_lst.append('doggo')\n",
    "    if row['floofer'] == 'floofer':\n",
    "        stg_lst.append('floofer')\n",
    "    if row['pupper'] == 'pupper':\n",
    "        stg_lst.append('pupper')\n",
    "    if row['puppo'] == 'puppo':\n",
    "        stg_lst.append('puppo')\n",
    "    if len(stg_lst) < 1: \n",
    "        row['stage'] = 'None'\n",
    "    else: \n",
    "        row['stage'] = ' and '.join(stg_lst)\n",
    "    return row\n"
   ]
  },
  {
   "cell_type": "code",
   "execution_count": 65,
   "metadata": {
    "nbpresent": {
     "id": "abb24f00-23f2-422c-b38b-9a8428cf2110"
    }
   },
   "outputs": [],
   "source": [
    "# Applying the \"dog-stage\" function to each record\n",
    "clean_archive = clean_archive.apply(Dog_Stage, axis=1)"
   ]
  },
  {
   "cell_type": "code",
   "execution_count": 66,
   "metadata": {
    "nbpresent": {
     "id": "b4f878a5-8091-4f56-92c5-2563a7037d09"
    }
   },
   "outputs": [],
   "source": [
    "# Discarding unwanted entries\n",
    "clean_archive = clean_archive.drop(['doggo', 'floofer', 'pupper', 'puppo'], axis=1)"
   ]
  },
  {
   "cell_type": "code",
   "execution_count": 67,
   "metadata": {
    "nbpresent": {
     "id": "986207d0-c625-48cb-890d-6e2432f1402f"
    }
   },
   "outputs": [
    {
     "data": {
      "text/html": [
       "<div>\n",
       "<style scoped>\n",
       "    .dataframe tbody tr th:only-of-type {\n",
       "        vertical-align: middle;\n",
       "    }\n",
       "\n",
       "    .dataframe tbody tr th {\n",
       "        vertical-align: top;\n",
       "    }\n",
       "\n",
       "    .dataframe thead th {\n",
       "        text-align: right;\n",
       "    }\n",
       "</style>\n",
       "<table border=\"1\" class=\"dataframe\">\n",
       "  <thead>\n",
       "    <tr style=\"text-align: right;\">\n",
       "      <th></th>\n",
       "      <th>tweet_id</th>\n",
       "      <th>timestamp</th>\n",
       "      <th>source</th>\n",
       "      <th>text</th>\n",
       "      <th>expanded_urls</th>\n",
       "      <th>rating_numerator</th>\n",
       "      <th>rating_denominator</th>\n",
       "      <th>name</th>\n",
       "      <th>stage</th>\n",
       "    </tr>\n",
       "  </thead>\n",
       "  <tbody>\n",
       "    <tr>\n",
       "      <th>0</th>\n",
       "      <td>892420643555336193</td>\n",
       "      <td>2017-08-01 16:23:56</td>\n",
       "      <td>\"http://twitter.com/download/iphone\" rel=\"nofo...</td>\n",
       "      <td>This is Phineas. He's a mystical boy. Only eve...</td>\n",
       "      <td>https://twitter.com/dog_rates/status/892420643...</td>\n",
       "      <td>13.0</td>\n",
       "      <td>10</td>\n",
       "      <td>phineas</td>\n",
       "      <td>None</td>\n",
       "    </tr>\n",
       "    <tr>\n",
       "      <th>1</th>\n",
       "      <td>892177421306343426</td>\n",
       "      <td>2017-08-01 00:17:27</td>\n",
       "      <td>\"http://twitter.com/download/iphone\" rel=\"nofo...</td>\n",
       "      <td>This is Tilly. She's just checking pup on you....</td>\n",
       "      <td>https://twitter.com/dog_rates/status/892177421...</td>\n",
       "      <td>13.0</td>\n",
       "      <td>10</td>\n",
       "      <td>tilly</td>\n",
       "      <td>None</td>\n",
       "    </tr>\n",
       "    <tr>\n",
       "      <th>2</th>\n",
       "      <td>891815181378084864</td>\n",
       "      <td>2017-07-31 00:18:03</td>\n",
       "      <td>\"http://twitter.com/download/iphone\" rel=\"nofo...</td>\n",
       "      <td>This is Archie. He is a rare Norwegian Pouncin...</td>\n",
       "      <td>https://twitter.com/dog_rates/status/891815181...</td>\n",
       "      <td>12.0</td>\n",
       "      <td>10</td>\n",
       "      <td>archie</td>\n",
       "      <td>None</td>\n",
       "    </tr>\n",
       "    <tr>\n",
       "      <th>3</th>\n",
       "      <td>891689557279858688</td>\n",
       "      <td>2017-07-30 15:58:51</td>\n",
       "      <td>\"http://twitter.com/download/iphone\" rel=\"nofo...</td>\n",
       "      <td>This is Darla. She commenced a snooze mid meal...</td>\n",
       "      <td>https://twitter.com/dog_rates/status/891689557...</td>\n",
       "      <td>13.0</td>\n",
       "      <td>10</td>\n",
       "      <td>darla</td>\n",
       "      <td>None</td>\n",
       "    </tr>\n",
       "    <tr>\n",
       "      <th>4</th>\n",
       "      <td>891327558926688256</td>\n",
       "      <td>2017-07-29 16:00:24</td>\n",
       "      <td>\"http://twitter.com/download/iphone\" rel=\"nofo...</td>\n",
       "      <td>This is Franklin. He would like you to stop ca...</td>\n",
       "      <td>https://twitter.com/dog_rates/status/891327558...</td>\n",
       "      <td>12.0</td>\n",
       "      <td>10</td>\n",
       "      <td>franklin</td>\n",
       "      <td>None</td>\n",
       "    </tr>\n",
       "  </tbody>\n",
       "</table>\n",
       "</div>"
      ],
      "text/plain": [
       "             tweet_id           timestamp  \\\n",
       "0  892420643555336193 2017-08-01 16:23:56   \n",
       "1  892177421306343426 2017-08-01 00:17:27   \n",
       "2  891815181378084864 2017-07-31 00:18:03   \n",
       "3  891689557279858688 2017-07-30 15:58:51   \n",
       "4  891327558926688256 2017-07-29 16:00:24   \n",
       "\n",
       "                                              source  \\\n",
       "0  \"http://twitter.com/download/iphone\" rel=\"nofo...   \n",
       "1  \"http://twitter.com/download/iphone\" rel=\"nofo...   \n",
       "2  \"http://twitter.com/download/iphone\" rel=\"nofo...   \n",
       "3  \"http://twitter.com/download/iphone\" rel=\"nofo...   \n",
       "4  \"http://twitter.com/download/iphone\" rel=\"nofo...   \n",
       "\n",
       "                                                text  \\\n",
       "0  This is Phineas. He's a mystical boy. Only eve...   \n",
       "1  This is Tilly. She's just checking pup on you....   \n",
       "2  This is Archie. He is a rare Norwegian Pouncin...   \n",
       "3  This is Darla. She commenced a snooze mid meal...   \n",
       "4  This is Franklin. He would like you to stop ca...   \n",
       "\n",
       "                                       expanded_urls  rating_numerator  \\\n",
       "0  https://twitter.com/dog_rates/status/892420643...              13.0   \n",
       "1  https://twitter.com/dog_rates/status/892177421...              13.0   \n",
       "2  https://twitter.com/dog_rates/status/891815181...              12.0   \n",
       "3  https://twitter.com/dog_rates/status/891689557...              13.0   \n",
       "4  https://twitter.com/dog_rates/status/891327558...              12.0   \n",
       "\n",
       "   rating_denominator      name stage  \n",
       "0                  10   phineas  None  \n",
       "1                  10     tilly  None  \n",
       "2                  10    archie  None  \n",
       "3                  10     darla  None  \n",
       "4                  10  franklin  None  "
      ]
     },
     "execution_count": 67,
     "metadata": {},
     "output_type": "execute_result"
    }
   ],
   "source": [
    "clean_archive.head()"
   ]
  },
  {
   "cell_type": "markdown",
   "metadata": {
    "nbpresent": {
     "id": "6fd560d7-c603-4ad7-88f9-1563fc068178"
    }
   },
   "source": [
    "##### Inspecting the text when dog has two stages"
   ]
  },
  {
   "cell_type": "code",
   "execution_count": 68,
   "metadata": {
    "nbpresent": {
     "id": "06ac553f-b06c-4e86-b5fb-ca2015521e68"
    }
   },
   "outputs": [
    {
     "name": "stdout",
     "output_type": "stream",
     "text": [
      "191 doggo and puppo \n",
      " \n",
      " Here's a puppo participating in the #ScienceMarch. Cleverly disguising her own doggo agenda. 13/10 would keep the planet habitable for https://t.co/cMhq16isel \n",
      " \n",
      "\n",
      "200 doggo and floofer \n",
      " \n",
      " At first I thought this was a shy doggo, but it's actually a Rare Canadian Floofer Owl. Amateurs would confuse the two. 11/10 only send dogs https://t.co/TXdT3tmuYk \n",
      " \n",
      "\n",
      "460 doggo and pupper \n",
      " \n",
      " This is Dido. She's playing the lead role in \"Pupper Stops to Catch Snow Before Resuming Shadow Box with Dried Apple.\" 13/10 (IG: didodoggo) https://t.co/m7isZrOBX7 \n",
      " \n",
      "\n",
      "531 doggo and pupper \n",
      " \n",
      " Here we have Burke (pupper) and Dexter (doggo). Pupper wants to be exactly like doggo. Both 12/10 would pet at same time https://t.co/ANBpEYHaho \n",
      " \n",
      "\n",
      "575 doggo and pupper \n",
      " \n",
      " This is Bones. He's being haunted by another doggo of roughly the same size. 12/10 deep breaths pupper everything's fine https://t.co/55Dqe0SJNj \n",
      " \n",
      "\n",
      "705 doggo and pupper \n",
      " \n",
      " This is Pinot. He's a sophisticated doggo. You can tell by the hat. Also pointier than your average pupper. Still 10/10 would pet cautiously https://t.co/f2wmLZTPHd \n",
      " \n",
      "\n",
      "733 doggo and pupper \n",
      " \n",
      " Pupper butt 1, Doggo 0. Both 12/10 https://t.co/WQvcPEpH2u \n",
      " \n",
      "\n",
      "889 doggo and pupper \n",
      " \n",
      " Meet Maggie &amp; Lila. Maggie is the doggo, Lila is the pupper. They are sisters. Both 12/10 would pet at the same time https://t.co/MYwR4DQKll \n",
      " \n",
      "\n",
      "956 doggo and pupper \n",
      " \n",
      " Please stop sending it pictures that don't even have a doggo or pupper in them. Churlish af. 5/10 neat couch tho https://t.co/u2c9c7qSg8 \n",
      " \n",
      "\n",
      "1063 doggo and pupper \n",
      " \n",
      " This is just downright precious af. 12/10 for both pupper and doggo https://t.co/o5J479bZUC \n",
      " \n",
      "\n",
      "1113 doggo and pupper \n",
      " \n",
      " Like father (doggo), like son (pupper). Both 12/10 https://t.co/pG2inLaOda \n",
      " \n",
      "\n"
     ]
    }
   ],
   "source": [
    "for ind, rw in clean_archive.iterrows():\n",
    "    if ' and ' in rw['stage']:\n",
    "        print (ind,rw['stage'],'\\n','\\n',\n",
    "               rw['text'],'\\n','\\n')"
   ]
  },
  {
   "cell_type": "markdown",
   "metadata": {
    "nbpresent": {
     "id": "28e6baf2-8b93-4bfa-a710-739cf01f6d00"
    }
   },
   "source": [
    "191 doggo,puppo correction puppo\n",
    "\n",
    "200 doggo,floofer correction floofer\n",
    "\n",
    "460 doggo,pupper correction pupper\n",
    "\n",
    "*** 531 doggo,pupper correct ***\n",
    "\n",
    "575 doggo,pupper correction doggo\n",
    "\n",
    "705 doggo,pupper correction doggo\n",
    "\n",
    "*** 733 doggo,pupper correct ***\n",
    "\n",
    "*** 889 doggo,pupper correct ***\n",
    "\n",
    "956 doggo,pupper correction NaN\n",
    "\n",
    "*** 1063 doggo,pupper correct ***\n",
    "\n",
    "*** 1113 doggo,pupper correct ***\n"
   ]
  },
  {
   "cell_type": "code",
   "execution_count": 69,
   "metadata": {
    "nbpresent": {
     "id": "36b6db0a-8da3-442a-9b71-c2b7761222f6"
    }
   },
   "outputs": [],
   "source": [
    "# Implementing the corrections manually\n",
    "\n",
    "clean_archive.loc[clean_archive.index == 191, 'stage'] = 'puppo'\n",
    "clean_archive.loc[clean_archive.index == 200, 'stage'] = 'floofer'\n",
    "clean_archive.loc[clean_archive.index == 460, 'stage'] = 'pupper'\n",
    "clean_archive.loc[clean_archive.index == 575, 'stage'] = 'doggo'\n",
    "clean_archive.loc[clean_archive.index == 705, 'stage'] = 'doggo'\n",
    "clean_archive.loc[clean_archive.index == 956, 'stage'] = np.NaN"
   ]
  },
  {
   "cell_type": "code",
   "execution_count": 70,
   "metadata": {
    "nbpresent": {
     "id": "ea7794d6-8563-4e86-85b3-22ef881097d0"
    }
   },
   "outputs": [],
   "source": [
    "# transform None in NaN\n",
    "clean_archive['stage'] = clean_archive['stage'].where(clean_archive['stage']!=shabd, np.NaN) "
   ]
  },
  {
   "cell_type": "code",
   "execution_count": 71,
   "metadata": {
    "nbpresent": {
     "id": "ebc25222-6905-45d1-8fa1-6e443056d6c7"
    }
   },
   "outputs": [
    {
     "name": "stdout",
     "output_type": "stream",
     "text": [
      "<class 'pandas.core.frame.DataFrame'>\n",
      "Int64Index: 2097 entries, 0 to 2355\n",
      "Data columns (total 9 columns):\n",
      "tweet_id              2097 non-null object\n",
      "timestamp             2097 non-null datetime64[ns]\n",
      "source                2097 non-null object\n",
      "text                  2097 non-null object\n",
      "expanded_urls         2097 non-null object\n",
      "rating_numerator      2097 non-null float64\n",
      "rating_denominator    2097 non-null int64\n",
      "name                  2012 non-null object\n",
      "stage                 335 non-null object\n",
      "dtypes: datetime64[ns](1), float64(1), int64(1), object(6)\n",
      "memory usage: 243.8+ KB\n"
     ]
    }
   ],
   "source": [
    "# Verifying the changes\n",
    "clean_archive.info()"
   ]
  },
  {
   "cell_type": "markdown",
   "metadata": {},
   "source": [
    "### 3.2 Cleaning Image"
   ]
  },
  {
   "cell_type": "markdown",
   "metadata": {
    "nbpresent": {
     "id": "ac079ac6-07a3-4367-bd68-d8743d7257cc"
    }
   },
   "source": [
    "#### Changing the Data-type of \"tweet_id\" to string"
   ]
  },
  {
   "cell_type": "code",
   "execution_count": 72,
   "metadata": {},
   "outputs": [],
   "source": [
    "# Making the Changes\n",
    "clean_image['tweet_id']=clean_image['tweet_id'].astype(str)"
   ]
  },
  {
   "cell_type": "code",
   "execution_count": 73,
   "metadata": {},
   "outputs": [
    {
     "name": "stdout",
     "output_type": "stream",
     "text": [
      "<class 'pandas.core.frame.DataFrame'>\n",
      "RangeIndex: 2075 entries, 0 to 2074\n",
      "Data columns (total 12 columns):\n",
      "tweet_id    2075 non-null object\n",
      "jpg_url     2075 non-null object\n",
      "img_num     2075 non-null int64\n",
      "p1          2075 non-null object\n",
      "p1_conf     2075 non-null float64\n",
      "p1_dog      2075 non-null bool\n",
      "p2          2075 non-null object\n",
      "p2_conf     2075 non-null float64\n",
      "p2_dog      2075 non-null bool\n",
      "p3          2075 non-null object\n",
      "p3_conf     2075 non-null float64\n",
      "p3_dog      2075 non-null bool\n",
      "dtypes: bool(3), float64(3), int64(1), object(5)\n",
      "memory usage: 152.1+ KB\n"
     ]
    }
   ],
   "source": [
    "# Verifying the changes\n",
    "clean_image.info()"
   ]
  },
  {
   "cell_type": "markdown",
   "metadata": {
    "nbpresent": {
     "id": "064d3c85-c075-4db1-9963-bbe321e6da6b"
    }
   },
   "source": [
    "##### Fixing the Inconsistent cases"
   ]
  },
  {
   "cell_type": "code",
   "execution_count": 74,
   "metadata": {
    "nbpresent": {
     "id": "78410b56-10c7-4f2f-8e00-211ce167a910"
    }
   },
   "outputs": [],
   "source": [
    "# Making the changes\n",
    "\n",
    "clean_image['p1'] = clean_image['p1'].str.lower()\n",
    "clean_image['p2'] = clean_image['p2'].str.lower()\n",
    "clean_image['p3'] = clean_image['p3'].str.lower()"
   ]
  },
  {
   "cell_type": "code",
   "execution_count": 75,
   "metadata": {
    "nbpresent": {
     "id": "f5979978-f6c0-4885-9210-8d6bd8fff268"
    }
   },
   "outputs": [
    {
     "data": {
      "text/html": [
       "<div>\n",
       "<style scoped>\n",
       "    .dataframe tbody tr th:only-of-type {\n",
       "        vertical-align: middle;\n",
       "    }\n",
       "\n",
       "    .dataframe tbody tr th {\n",
       "        vertical-align: top;\n",
       "    }\n",
       "\n",
       "    .dataframe thead th {\n",
       "        text-align: right;\n",
       "    }\n",
       "</style>\n",
       "<table border=\"1\" class=\"dataframe\">\n",
       "  <thead>\n",
       "    <tr style=\"text-align: right;\">\n",
       "      <th></th>\n",
       "      <th>tweet_id</th>\n",
       "      <th>jpg_url</th>\n",
       "      <th>img_num</th>\n",
       "      <th>p1</th>\n",
       "      <th>p1_conf</th>\n",
       "      <th>p1_dog</th>\n",
       "      <th>p2</th>\n",
       "      <th>p2_conf</th>\n",
       "      <th>p2_dog</th>\n",
       "      <th>p3</th>\n",
       "      <th>p3_conf</th>\n",
       "      <th>p3_dog</th>\n",
       "    </tr>\n",
       "  </thead>\n",
       "  <tbody>\n",
       "    <tr>\n",
       "      <th>0</th>\n",
       "      <td>666020888022790149</td>\n",
       "      <td>https://pbs.twimg.com/media/CT4udn0WwAA0aMy.jpg</td>\n",
       "      <td>1</td>\n",
       "      <td>welsh_springer_spaniel</td>\n",
       "      <td>0.465074</td>\n",
       "      <td>True</td>\n",
       "      <td>collie</td>\n",
       "      <td>0.156665</td>\n",
       "      <td>True</td>\n",
       "      <td>shetland_sheepdog</td>\n",
       "      <td>0.061428</td>\n",
       "      <td>True</td>\n",
       "    </tr>\n",
       "    <tr>\n",
       "      <th>1</th>\n",
       "      <td>666029285002620928</td>\n",
       "      <td>https://pbs.twimg.com/media/CT42GRgUYAA5iDo.jpg</td>\n",
       "      <td>1</td>\n",
       "      <td>redbone</td>\n",
       "      <td>0.506826</td>\n",
       "      <td>True</td>\n",
       "      <td>miniature_pinscher</td>\n",
       "      <td>0.074192</td>\n",
       "      <td>True</td>\n",
       "      <td>rhodesian_ridgeback</td>\n",
       "      <td>0.072010</td>\n",
       "      <td>True</td>\n",
       "    </tr>\n",
       "    <tr>\n",
       "      <th>2</th>\n",
       "      <td>666033412701032449</td>\n",
       "      <td>https://pbs.twimg.com/media/CT4521TWwAEvMyu.jpg</td>\n",
       "      <td>1</td>\n",
       "      <td>german_shepherd</td>\n",
       "      <td>0.596461</td>\n",
       "      <td>True</td>\n",
       "      <td>malinois</td>\n",
       "      <td>0.138584</td>\n",
       "      <td>True</td>\n",
       "      <td>bloodhound</td>\n",
       "      <td>0.116197</td>\n",
       "      <td>True</td>\n",
       "    </tr>\n",
       "    <tr>\n",
       "      <th>3</th>\n",
       "      <td>666044226329800704</td>\n",
       "      <td>https://pbs.twimg.com/media/CT5Dr8HUEAA-lEu.jpg</td>\n",
       "      <td>1</td>\n",
       "      <td>rhodesian_ridgeback</td>\n",
       "      <td>0.408143</td>\n",
       "      <td>True</td>\n",
       "      <td>redbone</td>\n",
       "      <td>0.360687</td>\n",
       "      <td>True</td>\n",
       "      <td>miniature_pinscher</td>\n",
       "      <td>0.222752</td>\n",
       "      <td>True</td>\n",
       "    </tr>\n",
       "    <tr>\n",
       "      <th>4</th>\n",
       "      <td>666049248165822465</td>\n",
       "      <td>https://pbs.twimg.com/media/CT5IQmsXIAAKY4A.jpg</td>\n",
       "      <td>1</td>\n",
       "      <td>miniature_pinscher</td>\n",
       "      <td>0.560311</td>\n",
       "      <td>True</td>\n",
       "      <td>rottweiler</td>\n",
       "      <td>0.243682</td>\n",
       "      <td>True</td>\n",
       "      <td>doberman</td>\n",
       "      <td>0.154629</td>\n",
       "      <td>True</td>\n",
       "    </tr>\n",
       "  </tbody>\n",
       "</table>\n",
       "</div>"
      ],
      "text/plain": [
       "             tweet_id                                          jpg_url  \\\n",
       "0  666020888022790149  https://pbs.twimg.com/media/CT4udn0WwAA0aMy.jpg   \n",
       "1  666029285002620928  https://pbs.twimg.com/media/CT42GRgUYAA5iDo.jpg   \n",
       "2  666033412701032449  https://pbs.twimg.com/media/CT4521TWwAEvMyu.jpg   \n",
       "3  666044226329800704  https://pbs.twimg.com/media/CT5Dr8HUEAA-lEu.jpg   \n",
       "4  666049248165822465  https://pbs.twimg.com/media/CT5IQmsXIAAKY4A.jpg   \n",
       "\n",
       "   img_num                      p1   p1_conf  p1_dog                  p2  \\\n",
       "0        1  welsh_springer_spaniel  0.465074    True              collie   \n",
       "1        1                 redbone  0.506826    True  miniature_pinscher   \n",
       "2        1         german_shepherd  0.596461    True            malinois   \n",
       "3        1     rhodesian_ridgeback  0.408143    True             redbone   \n",
       "4        1      miniature_pinscher  0.560311    True          rottweiler   \n",
       "\n",
       "    p2_conf  p2_dog                   p3   p3_conf  p3_dog  \n",
       "0  0.156665    True    shetland_sheepdog  0.061428    True  \n",
       "1  0.074192    True  rhodesian_ridgeback  0.072010    True  \n",
       "2  0.138584    True           bloodhound  0.116197    True  \n",
       "3  0.360687    True   miniature_pinscher  0.222752    True  \n",
       "4  0.243682    True             doberman  0.154629    True  "
      ]
     },
     "execution_count": 75,
     "metadata": {},
     "output_type": "execute_result"
    }
   ],
   "source": [
    "# Verifying the changes\n",
    "\n",
    "clean_image.head()"
   ]
  },
  {
   "cell_type": "markdown",
   "metadata": {
    "nbpresent": {
     "id": "ce72e988-53ca-4057-ab14-c8b7b9ad1890"
    }
   },
   "source": [
    "##### Verifying whether Dog or not"
   ]
  },
  {
   "cell_type": "code",
   "execution_count": 76,
   "metadata": {
    "nbpresent": {
     "id": "76e5ba19-f01f-40fa-80fb-6adf8ead9516"
    }
   },
   "outputs": [],
   "source": [
    "# Generating a new columns\n",
    "\n",
    "clean_image['dog']=df_img_2['no_dog'].apply(lambda x: False if x==3 else True )"
   ]
  },
  {
   "cell_type": "code",
   "execution_count": 77,
   "metadata": {
    "nbpresent": {
     "id": "80b2fee3-c746-4d46-b612-bd9fc9db50f9"
    }
   },
   "outputs": [
    {
     "name": "stdout",
     "output_type": "stream",
     "text": [
      "0    True\n",
      "1    True\n",
      "2    True\n",
      "3    True\n",
      "4    True\n",
      "Name: dog, dtype: bool False\n"
     ]
    }
   ],
   "source": [
    "# Verifying the changes\n",
    "\n",
    "print(clean_image['dog'].head(),clean_image['dog'][17])"
   ]
  },
  {
   "cell_type": "markdown",
   "metadata": {},
   "source": [
    "### 3.3 Cleaning Info\n"
   ]
  },
  {
   "cell_type": "code",
   "execution_count": 78,
   "metadata": {},
   "outputs": [
    {
     "name": "stdout",
     "output_type": "stream",
     "text": [
      "<class 'pandas.core.frame.DataFrame'>\n",
      "RangeIndex: 2345 entries, 0 to 2344\n",
      "Data columns (total 3 columns):\n",
      "favorite_count    2345 non-null int64\n",
      "id                2345 non-null object\n",
      "retweet_count     2345 non-null int64\n",
      "dtypes: int64(2), object(1)\n",
      "memory usage: 55.0+ KB\n"
     ]
    }
   ],
   "source": [
    "# Modifying the data type of id to string \n",
    "clean_info['id'] = clean_info['id'].astype(str)\n",
    "\n",
    "# Verifying the Changes\n",
    "clean_info.info()\n"
   ]
  },
  {
   "cell_type": "markdown",
   "metadata": {
    "nbpresent": {
     "id": "05a3ad0b-c56b-4824-b724-2db2651bfbcf"
    }
   },
   "source": [
    "### 3.4 Merging up the Cleaned Data\n"
   ]
  },
  {
   "cell_type": "markdown",
   "metadata": {
    "nbpresent": {
     "id": "6270de7c-7fec-4a58-b7a2-61298a157fba"
    }
   },
   "source": [
    "##### Merge and suppress row without image"
   ]
  },
  {
   "cell_type": "code",
   "execution_count": 79,
   "metadata": {
    "nbpresent": {
     "id": "ca140037-47fc-4ba3-8da9-33c6eb2e4f35"
    }
   },
   "outputs": [],
   "source": [
    "# Performing inner joins on 'id' to merge the data\n",
    "\n",
    "df_final = clean_image.merge(clean_archive, left_on='tweet_id',right_on='tweet_id',how='inner')\n",
    "df_final = df_final.merge(clean_info,left_on='tweet_id',right_on='id',how='inner')\n",
    "\n",
    "# Dropping unnecessary fields\n",
    "df_final = df_final.drop(['id'], axis=1)"
   ]
  },
  {
   "cell_type": "code",
   "execution_count": 110,
   "metadata": {
    "nbpresent": {
     "id": "c6f7fc99-76cd-42e0-be1a-77c24447a101"
    }
   },
   "outputs": [
    {
     "data": {
      "text/plain": [
       "Index(['tweet_id', 'jpg_url', 'img_num', 'p1', 'p1_conf', 'p1_dog', 'p2',\n",
       "       'p2_conf', 'p2_dog', 'p3', 'p3_conf', 'p3_dog', 'dog', 'timestamp',\n",
       "       'source', 'text', 'expanded_urls', 'rating_numerator',\n",
       "       'rating_denominator', 'name', 'stage', 'favorite_count',\n",
       "       'retweet_count'],\n",
       "      dtype='object')"
      ]
     },
     "execution_count": 110,
     "metadata": {},
     "output_type": "execute_result"
    }
   ],
   "source": [
    "# Verifying the Changes\n",
    "df_final.columns"
   ]
  },
  {
   "cell_type": "markdown",
   "metadata": {
    "nbpresent": {
     "id": "e02b2be3-823e-49f0-96ce-ae50a8a9b7b3"
    }
   },
   "source": [
    "##### Store data"
   ]
  },
  {
   "cell_type": "code",
   "execution_count": 111,
   "metadata": {
    "nbpresent": {
     "id": "002227dc-11bd-4e23-9a17-2e3872eaf315"
    }
   },
   "outputs": [],
   "source": [
    "# store data \n",
    "df_final.to_csv('/home/workspace/twitter_archive_master.csv',index=False)"
   ]
  },
  {
   "cell_type": "markdown",
   "metadata": {
    "nbpresent": {
     "id": "66a90323-f687-4c20-b62d-1e25f5b72565"
    }
   },
   "source": [
    "# 4. Investigating Data\n"
   ]
  },
  {
   "cell_type": "code",
   "execution_count": 112,
   "metadata": {
    "nbpresent": {
     "id": "f72c6ea8-68c5-47a0-80f3-3d21d4518cde"
    }
   },
   "outputs": [],
   "source": [
    "\n",
    "df = df_final.copy()"
   ]
  },
  {
   "cell_type": "markdown",
   "metadata": {
    "nbpresent": {
     "id": "9d174eeb-4249-4e83-aaa9-62f97d8e67ad"
    }
   },
   "source": [
    "### 4.1 Inspecting the Global information on sharing\n"
   ]
  },
  {
   "cell_type": "code",
   "execution_count": 113,
   "metadata": {
    "nbpresent": {
     "id": "09029ee3-2b56-43b1-aabe-27f876c91ffa"
    }
   },
   "outputs": [
    {
     "data": {
      "text/plain": [
       "count     1971.000000\n",
       "mean      2756.426687\n",
       "std       4749.089405\n",
       "min         13.000000\n",
       "25%        614.500000\n",
       "50%       1336.000000\n",
       "75%       3163.500000\n",
       "max      77886.000000\n",
       "Name: retweet_count, dtype: float64"
      ]
     },
     "execution_count": 113,
     "metadata": {},
     "output_type": "execute_result"
    }
   ],
   "source": [
    "# Getting the Description of retweet variable\n",
    "df['retweet_count'].describe()"
   ]
  },
  {
   "cell_type": "code",
   "execution_count": 114,
   "metadata": {
    "nbpresent": {
     "id": "d8a6727d-2017-4127-9c97-66399f922f0b"
    }
   },
   "outputs": [
    {
     "name": "stdout",
     "output_type": "stream",
     "text": [
      "index:  16 \n",
      " \n",
      " tweet_id                                             666102155909144576\n",
      "jpg_url                 https://pbs.twimg.com/media/CT54YGiWUAEZnoK.jpg\n",
      "img_num                                                               1\n",
      "p1                                                       english_setter\n",
      "p1_conf                                                        0.298617\n",
      "p1_dog                                                             True\n",
      "p2                                                         newfoundland\n",
      "p2_conf                                                        0.149842\n",
      "p2_dog                                                             True\n",
      "p3                                                               borzoi\n",
      "p3_conf                                                        0.133649\n",
      "p3_dog                                                             True\n",
      "dog                                                                True\n",
      "timestamp                                           2015-11-16 03:55:04\n",
      "source                \"http://twitter.com/download/iphone\" rel=\"nofo...\n",
      "text                  Oh my. Here you are seeing an Adobe Setter giv...\n",
      "expanded_urls         https://twitter.com/dog_rates/status/666102155...\n",
      "rating_numerator                                                     11\n",
      "rating_denominator                                                   10\n",
      "name                                                               none\n",
      "stage                                                               NaN\n",
      "favorite_count                                                       80\n",
      "retweet_count                                                        13\n",
      "Name: 16, dtype: object \n",
      " \n",
      "\n"
     ]
    }
   ],
   "source": [
    "# Looking up the record with the miminum retweet \n",
    "for ind, rw in df.iterrows():\n",
    "    if rw['retweet_count']==13:\n",
    "        print ('index: ',ind,'\\n','\\n',\n",
    "               rw,'\\n','\\n',\n",
    "              )"
   ]
  },
  {
   "cell_type": "markdown",
   "metadata": {
    "nbpresent": {
     "id": "136260cf-de65-4da1-ae7b-ec5ff7db09ae"
    }
   },
   "source": [
    "# Image of the tweet\n",
    "![Pictures of the tweet](https://pbs.twimg.com/media/CT54YGiWUAEZnoK.jpg)"
   ]
  },
  {
   "cell_type": "code",
   "execution_count": 115,
   "metadata": {
    "nbpresent": {
     "id": "37367139-fcbc-401d-a1cf-94baaf547ac2"
    }
   },
   "outputs": [],
   "source": [
    "# Looking up the row with the maximum retweet \n",
    "for ind, rw in df.iterrows():\n",
    "    if rw['retweet_count']==77996:\n",
    "        print ('index: ',ind,'\\n','\\n',\n",
    "               rw,'\\n','\\n',\n",
    "              )"
   ]
  },
  {
   "cell_type": "markdown",
   "metadata": {
    "nbpresent": {
     "id": "ee946225-d052-473f-b3b9-29808b52b567"
    }
   },
   "source": [
    "# Image of the tweet\n",
    "![Pictures of the tweet](https://pbs.twimg.com/ext_tw_video_thumb/744234667679821824/pu/img/1GaWmtJtdqzZV7jy.jpg)"
   ]
  },
  {
   "cell_type": "code",
   "execution_count": 116,
   "metadata": {
    "nbpresent": {
     "id": "215b12db-98f5-40e6-ae99-fab4a5376172"
    }
   },
   "outputs": [
    {
     "data": {
      "image/png": "[encoded data removed]",
      "text/plain": [
       "<matplotlib.figure.Figure at 0x7fa9f3b03390>"
      ]
     },
     "metadata": {},
     "output_type": "display_data"
    }
   ],
   "source": [
    "# Getting the evolution of tweet sharing \n",
    "df_plot=df.copy()\n",
    "\n",
    "# Setting up the date as index\n",
    "df_plot.set_index('timestamp',inplace=True)\n",
    "\n",
    "# Setting up the plot style to 'ggplot'\n",
    "plt.style.use('ggplot')\n",
    "\n",
    "# Plotting the data\n",
    "fig, ax = plt.subplots(figsize=(15,7))\n",
    "ax.bar(df_plot.index, df_plot['retweet_count'],width=5)\n",
    "\n",
    "\n",
    "# Setting up the ticks for each week\n",
    "ax.xaxis.set_major_locator(mdates.MonthLocator())\n",
    "\n",
    "# Setting the format for major ticks\n",
    "ax.xaxis.set_major_formatter(mdates.DateFormatter('%b'))\n",
    "\n",
    "# Setting up the axis and graph titles\n",
    "ax.set_title('Number of retweets through months')\n",
    "ax.set_xlabel('Month')\n",
    "ax.set_ylabel('Retweets')\n",
    "\n",
    "# Generating the figure\n",
    "fig.savefig('/home/workspace/retweets_through_time.png')"
   ]
  },
  {
   "cell_type": "markdown",
   "metadata": {},
   "source": [
    "● Post the removal of Outliers, we perform the specific analysis.\n",
    "we can see that in June and December it had the most occuring tweets."
   ]
  },
  {
   "cell_type": "markdown",
   "metadata": {
    "nbpresent": {
     "id": "d763eeb4-8486-464a-89e6-55cfabeefbc4"
    }
   },
   "source": [
    "### 4.2 Visualizing the Variables\n"
   ]
  },
  {
   "cell_type": "markdown",
   "metadata": {
    "nbpresent": {
     "id": "880bce56-9267-4562-89ed-17bffde78dd1"
    }
   },
   "source": [
    "##### Skimming away the Outliers"
   ]
  },
  {
   "cell_type": "code",
   "execution_count": 87,
   "metadata": {
    "nbpresent": {
     "id": "61363519-5bad-40cd-bda7-c183905d7565"
    }
   },
   "outputs": [],
   "source": [
    "# Defining the function to remove the outliers\n",
    "\n",
    "def discard_outliers(dataframe, column):\n",
    "    '''\n",
    "    the function take a dataframe and a column as argument \n",
    "    cut the outlier of the dataframe\n",
    "    and return the new dataframe shape\n",
    "    '''\n",
    "    q3 = dataframe[column].quantile(0.75)\n",
    "    q1 = dataframe[column].quantile(0.25)\n",
    "    IQR = q3 - q1\n",
    "    out_1 = q1 - 1.5*IQR\n",
    "    out_2 = q3 + 1.5*IQR\n",
    "    dataframe = dataframe.loc[((dataframe[column] > out_1) & (dataframe[column] < out_2))]\n",
    "    return dataframe"
   ]
  },
  {
   "cell_type": "code",
   "execution_count": 88,
   "metadata": {
    "nbpresent": {
     "id": "18dc4e6a-c22d-41e4-99ac-54c0e11704a5"
    }
   },
   "outputs": [],
   "source": [
    "# apply function to our dataframe\n",
    "\n",
    "df = discard_outliers(df,'retweet_count')"
   ]
  },
  {
   "cell_type": "code",
   "execution_count": 89,
   "metadata": {
    "nbpresent": {
     "id": "c921dd7d-789b-42f5-9472-562b552bd31d"
    }
   },
   "outputs": [
    {
     "data": {
      "text/plain": [
       "(1818, 23)"
      ]
     },
     "execution_count": 89,
     "metadata": {},
     "output_type": "execute_result"
    }
   ],
   "source": [
    "# Verifying the Changes\n",
    "df.shape"
   ]
  },
  {
   "cell_type": "markdown",
   "metadata": {},
   "source": [
    "##### Description of Data without the Outliers"
   ]
  },
  {
   "cell_type": "code",
   "execution_count": 90,
   "metadata": {
    "nbpresent": {
     "id": "6984797e-365e-448b-a1e6-cdaee3bac621"
    }
   },
   "outputs": [
    {
     "data": {
      "text/plain": [
       "count    1818.000000\n",
       "mean     1771.383938\n",
       "std      1600.568141\n",
       "min        13.000000\n",
       "25%       581.000000\n",
       "50%      1204.000000\n",
       "75%      2527.000000\n",
       "max      6975.000000\n",
       "Name: retweet_count, dtype: float64"
      ]
     },
     "execution_count": 90,
     "metadata": {},
     "output_type": "execute_result"
    }
   ],
   "source": [
    "# Updated description\n",
    "df['retweet_count'].describe()"
   ]
  },
  {
   "cell_type": "markdown",
   "metadata": {
    "nbpresent": {
     "id": "54e08526-0f31-4d46-91d7-f10b571ab024"
    }
   },
   "source": [
    "##### Visualizing Hours Vs Retweets"
   ]
  },
  {
   "cell_type": "code",
   "execution_count": 91,
   "metadata": {
    "nbpresent": {
     "id": "dd690d73-751a-4a70-bc19-58906e232b51"
    }
   },
   "outputs": [
    {
     "data": {
      "image/png": "[encoded data removed]",
      "text/plain": [
       "<matplotlib.figure.Figure at 0x7fa9f27f5fd0>"
      ]
     },
     "metadata": {},
     "output_type": "display_data"
    }
   ],
   "source": [
    "# Generating a copy of the dataframe\n",
    "df_hr = df.copy()\n",
    "\n",
    "# Generating a new fields \"Hours\"\n",
    "df_hr['hour'] = df_hr['timestamp'].apply(lambda x: x.hour)\n",
    "\n",
    "# Generating a graphical plot for the data\n",
    "g=sns.barplot( x=\"hour\", y=\"retweet_count\", data=df_hr,estimator=median)\n",
    "g.set_xlabel('Hours')\n",
    "\n",
    "# Setting the appropriate headers\n",
    "plt.title('Hours & retweets')\n",
    "plt.ylabel('Retweet  Median')\n",
    "\n",
    "# Exporting the figure\n",
    "fig =g.get_figure()\n",
    "fig.savefig('/home/workspace/hours_and_retweets.png')\n"
   ]
  },
  {
   "cell_type": "markdown",
   "metadata": {},
   "source": [
    "From mere observation we can notice that the count of Retweets is high at\n",
    "some particular timings like 4 PM(16 hours) or 5 PM(17 hours).\n",
    "\n",
    "\n",
    "Alternatively, the Retweets show a deep dive in numbers at hours like 3 AM, 4\n",
    "AM, 1 PM."
   ]
  },
  {
   "cell_type": "markdown",
   "metadata": {},
   "source": [
    "##### Visualizing Days Vs Retweets"
   ]
  },
  {
   "cell_type": "code",
   "execution_count": 92,
   "metadata": {
    "nbpresent": {
     "id": "60003ebd-2845-494a-8834-56d89d3d9c5b"
    }
   },
   "outputs": [
    {
     "data": {
      "image/png": "[encoded data removed]",
      "text/plain": [
       "<matplotlib.figure.Figure at 0x7fa9f2c47c88>"
      ]
     },
     "metadata": {},
     "output_type": "display_data"
    }
   ],
   "source": [
    "# Generating a copy of the dataframe\n",
    "df_day = df.copy()\n",
    "\n",
    "# Generating a new fields \"day\"\n",
    "df_day['day'] = df_day['timestamp'].apply(lambda x: x.day)\n",
    "\n",
    "# Generating a graphical plot for the data\n",
    "g=sns.barplot( x=\"day\", y=\"retweet_count\", data=df_day,estimator=median)\n",
    "g.set_xlabel('days')\n",
    "\n",
    "# Setting the appropriate headers\n",
    "plt.title('Month and retweets')\n",
    "plt.ylabel('Retweet Count Median')\n",
    "\n",
    "# Exporting the figure\n",
    "fig =g.get_figure()\n",
    "fig.savefig('/home/workspace/month_and_retweets.png')"
   ]
  },
  {
   "cell_type": "markdown",
   "metadata": {},
   "source": [
    "##### Visualizing Weekdays Vs Retweets"
   ]
  },
  {
   "cell_type": "code",
   "execution_count": 93,
   "metadata": {
    "nbpresent": {
     "id": "3403f1d4-6f5a-40e7-9d8e-6ecd744da9ac"
    }
   },
   "outputs": [
    {
     "data": {
      "image/png": "[encoded data removed]",
      "text/plain": [
       "<matplotlib.figure.Figure at 0x7fa9f2b1b080>"
      ]
     },
     "metadata": {},
     "output_type": "display_data"
    }
   ],
   "source": [
    "# Generating a copy of the dataframe\n",
    "df_weekday = df.copy()\n",
    "\n",
    "# Generating a new field \"weekday\"\n",
    "df_weekday['weekday'] = df_weekday['timestamp'].apply(lambda x: x.weekday())\n",
    "\n",
    "# Generating a graphical plot for the data\n",
    "g=sns.barplot( x=\"weekday\", y=\"retweet_count\", data=df_weekday,estimator=median)\n",
    "g.set_xlabel('Days')\n",
    "\n",
    "# Setting the appropriate headers\n",
    "plt.title('Days and retweets')\n",
    "plt.ylabel('Retweet Count Median')\n",
    "\n",
    "# Exporting the figure\n",
    "fig =g.get_figure()\n",
    "fig.savefig('/home/workspace/days_and_retweet.png')"
   ]
  },
  {
   "cell_type": "markdown",
   "metadata": {},
   "source": [
    "Please Note that Monday is represented by 0, Tuesday is represented by 1, ……,\n",
    "and Sunday is represented by 6.\n",
    "We can notice that Tuesday and Friday, show a better performance with respect to\n",
    "the Retweets, as compared to Saturday and Sunday."
   ]
  },
  {
   "cell_type": "markdown",
   "metadata": {},
   "source": [
    "##### Visualizing Dog Breeds Vs Retweets"
   ]
  },
  {
   "cell_type": "code",
   "execution_count": 94,
   "metadata": {
    "nbpresent": {
     "id": "d17832a7-86f0-4a8d-9206-542c57b82c51"
    }
   },
   "outputs": [
    {
     "name": "stdout",
     "output_type": "stream",
     "text": [
      "Unique Breeds of Dogs are :  353\n"
     ]
    }
   ],
   "source": [
    "# Generating a copy of the dataframe\n",
    "df_breeds = df.copy()\n",
    "\n",
    "# Fetching the count of unique breeds\n",
    "print('Unique Breeds of Dogs are : ', df_breeds['p1'].nunique())\n",
    "\n",
    "# Calculating the frequency of various breeds\n",
    "df['p1'].value_counts()\n",
    "frequency = df['p1'].value_counts().to_dict()\n",
    "f= pd.DataFrame(list(frequency.items()), columns=['breed', 'frequency'])\n",
    "\n",
    "# Filtering the Data for frequencies > 23 only\n",
    "f.drop(f[f.frequency < 23].index, inplace=True)"
   ]
  },
  {
   "cell_type": "code",
   "execution_count": 95,
   "metadata": {
    "nbpresent": {
     "id": "33173732-e4b4-45a6-9424-541241462191"
    }
   },
   "outputs": [
    {
     "data": {
      "text/html": [
       "<div>\n",
       "<style scoped>\n",
       "    .dataframe tbody tr th:only-of-type {\n",
       "        vertical-align: middle;\n",
       "    }\n",
       "\n",
       "    .dataframe tbody tr th {\n",
       "        vertical-align: top;\n",
       "    }\n",
       "\n",
       "    .dataframe thead th {\n",
       "        text-align: right;\n",
       "    }\n",
       "</style>\n",
       "<table border=\"1\" class=\"dataframe\">\n",
       "  <thead>\n",
       "    <tr style=\"text-align: right;\">\n",
       "      <th></th>\n",
       "      <th>breed</th>\n",
       "      <th>frequency</th>\n",
       "      <th>total_retweet</th>\n",
       "    </tr>\n",
       "  </thead>\n",
       "  <tbody>\n",
       "    <tr>\n",
       "      <th>0</th>\n",
       "      <td>golden_retriever</td>\n",
       "      <td>119</td>\n",
       "      <td>270696</td>\n",
       "    </tr>\n",
       "    <tr>\n",
       "      <th>1</th>\n",
       "      <td>labrador_retriever</td>\n",
       "      <td>86</td>\n",
       "      <td>185610</td>\n",
       "    </tr>\n",
       "    <tr>\n",
       "      <th>2</th>\n",
       "      <td>pembroke</td>\n",
       "      <td>79</td>\n",
       "      <td>185093</td>\n",
       "    </tr>\n",
       "    <tr>\n",
       "      <th>3</th>\n",
       "      <td>chihuahua</td>\n",
       "      <td>72</td>\n",
       "      <td>111665</td>\n",
       "    </tr>\n",
       "    <tr>\n",
       "      <th>4</th>\n",
       "      <td>pug</td>\n",
       "      <td>52</td>\n",
       "      <td>77967</td>\n",
       "    </tr>\n",
       "  </tbody>\n",
       "</table>\n",
       "</div>"
      ],
      "text/plain": [
       "                breed  frequency  total_retweet\n",
       "0    golden_retriever        119         270696\n",
       "1  labrador_retriever         86         185610\n",
       "2            pembroke         79         185093\n",
       "3           chihuahua         72         111665\n",
       "4                 pug         52          77967"
      ]
     },
     "execution_count": 95,
     "metadata": {},
     "output_type": "execute_result"
    }
   ],
   "source": [
    "# Generating a new field \"total_retweet\"\n",
    "total_retweet =[]\n",
    "for i in f['breed']:\n",
    "    t_r = df[df['p1'] == i]['retweet_count'].sum()\n",
    "    total_retweet.append(t_r)\n",
    "\n",
    "f['total_retweet']=total_retweet\n",
    "f.head()"
   ]
  },
  {
   "cell_type": "code",
   "execution_count": 96,
   "metadata": {
    "nbpresent": {
     "id": "6a1e3158-1400-41a0-8fe8-581a694996c9"
    }
   },
   "outputs": [
    {
     "data": {
      "text/html": [
       "<div>\n",
       "<style scoped>\n",
       "    .dataframe tbody tr th:only-of-type {\n",
       "        vertical-align: middle;\n",
       "    }\n",
       "\n",
       "    .dataframe tbody tr th {\n",
       "        vertical-align: top;\n",
       "    }\n",
       "\n",
       "    .dataframe thead th {\n",
       "        text-align: right;\n",
       "    }\n",
       "</style>\n",
       "<table border=\"1\" class=\"dataframe\">\n",
       "  <thead>\n",
       "    <tr style=\"text-align: right;\">\n",
       "      <th></th>\n",
       "      <th>breed</th>\n",
       "      <th>frequency</th>\n",
       "      <th>total_retweet</th>\n",
       "      <th>retweet_mean</th>\n",
       "    </tr>\n",
       "  </thead>\n",
       "  <tbody>\n",
       "    <tr>\n",
       "      <th>0</th>\n",
       "      <td>golden_retriever</td>\n",
       "      <td>119</td>\n",
       "      <td>270696</td>\n",
       "      <td>2274</td>\n",
       "    </tr>\n",
       "    <tr>\n",
       "      <th>1</th>\n",
       "      <td>labrador_retriever</td>\n",
       "      <td>86</td>\n",
       "      <td>185610</td>\n",
       "      <td>2158</td>\n",
       "    </tr>\n",
       "    <tr>\n",
       "      <th>2</th>\n",
       "      <td>pembroke</td>\n",
       "      <td>79</td>\n",
       "      <td>185093</td>\n",
       "      <td>2342</td>\n",
       "    </tr>\n",
       "    <tr>\n",
       "      <th>3</th>\n",
       "      <td>chihuahua</td>\n",
       "      <td>72</td>\n",
       "      <td>111665</td>\n",
       "      <td>1550</td>\n",
       "    </tr>\n",
       "    <tr>\n",
       "      <th>4</th>\n",
       "      <td>pug</td>\n",
       "      <td>52</td>\n",
       "      <td>77967</td>\n",
       "      <td>1499</td>\n",
       "    </tr>\n",
       "  </tbody>\n",
       "</table>\n",
       "</div>"
      ],
      "text/plain": [
       "                breed  frequency  total_retweet  retweet_mean\n",
       "0    golden_retriever        119         270696          2274\n",
       "1  labrador_retriever         86         185610          2158\n",
       "2            pembroke         79         185093          2342\n",
       "3           chihuahua         72         111665          1550\n",
       "4                 pug         52          77967          1499"
      ]
     },
     "execution_count": 96,
     "metadata": {},
     "output_type": "execute_result"
    }
   ],
   "source": [
    "# Generating a new field \"retweet_mean\"\n",
    "f['retweet_mean']=f['total_retweet']//f['frequency']\n",
    "f.head()"
   ]
  },
  {
   "cell_type": "code",
   "execution_count": 97,
   "metadata": {
    "nbpresent": {
     "id": "73790d33-d6ca-4c4c-816d-7484d56f2d45"
    }
   },
   "outputs": [
    {
     "data": {
      "image/png": "[encoded data removed]",
      "text/plain": [
       "<matplotlib.figure.Figure at 0x7fa9f2c99e80>"
      ]
     },
     "metadata": {},
     "output_type": "display_data"
    }
   ],
   "source": [
    "# Generating a graphical plot for the data\n",
    "sns.set(rc={'figure.figsize':(17,10)})\n",
    "\n",
    "# Setting up the graph layout and design\n",
    "sns.set_style(\"whitegrid\")\n",
    "g = sns.barplot(x=\"breed\", y=\"retweet_mean\", data=f)\n",
    "g.set_ylabel('Retweet mean')\n",
    "\n",
    "# Setting the appropriate headers\n",
    "plt.title('Dog Breeds and Retweets')\n",
    "plt.xlabel('Breeds')\n",
    "\n",
    "# Exporting the figure\n",
    "fig =g.get_figure()\n",
    "fig.savefig('/home/workspace/breeds_and_retweets.png')"
   ]
  },
  {
   "cell_type": "markdown",
   "metadata": {},
   "source": [
    " The above plot depicts the Breeds with the most frequent Retweets (Those\n",
    "having over 23 Retweets over the time frame mentioned in Data Frame.) We notice that there are huge differences among different Breeds.\n",
    "French Bulldogs have more than 2500 average retweets while pug toy poddles\n",
    "have less than 1500 average retweet"
   ]
  },
  {
   "cell_type": "markdown",
   "metadata": {},
   "source": [
    "##### Visualizing Stages Vs Retweets"
   ]
  },
  {
   "cell_type": "code",
   "execution_count": 98,
   "metadata": {
    "nbpresent": {
     "id": "d93a0f3f-349f-4fc0-bbe9-6235a75065c5"
    }
   },
   "outputs": [
    {
     "name": "stdout",
     "output_type": "stream",
     "text": [
      "Count of the Unique Dog breeds is :  5\n"
     ]
    }
   ],
   "source": [
    "# Generating a copy of the dataframe\n",
    "df_stage=df.copy()\n",
    "\n",
    "# Fetching the count of unique stages\n",
    "print('Count of the Unique Dog breeds is : ', df_stage['stage'].nunique())\n",
    "\n"
   ]
  },
  {
   "cell_type": "code",
   "execution_count": 99,
   "metadata": {
    "nbpresent": {
     "id": "bbf06613-4299-4790-b3de-afd91562be55"
    }
   },
   "outputs": [
    {
     "name": "stdout",
     "output_type": "stream",
     "text": [
      "              stage  frequency\n",
      "0            pupper        190\n",
      "1             doggo         55\n",
      "2             puppo         17\n",
      "3           floofer          7\n",
      "4  doggo and pupper          3\n"
     ]
    }
   ],
   "source": [
    "# Calculating the frequency of various Dog breeds\n",
    "df['stage'].value_counts()\n",
    "fr = df['stage'].value_counts().to_dict()\n",
    "f= pd.DataFrame(list(fr.items()), columns=['stage', 'frequency'])\n",
    "print(f)"
   ]
  },
  {
   "cell_type": "code",
   "execution_count": 100,
   "metadata": {
    "nbpresent": {
     "id": "7c2f5848-e16e-44ea-a5de-2b72352c01b0"
    }
   },
   "outputs": [
    {
     "data": {
      "text/html": [
       "<div>\n",
       "<style scoped>\n",
       "    .dataframe tbody tr th:only-of-type {\n",
       "        vertical-align: middle;\n",
       "    }\n",
       "\n",
       "    .dataframe tbody tr th {\n",
       "        vertical-align: top;\n",
       "    }\n",
       "\n",
       "    .dataframe thead th {\n",
       "        text-align: right;\n",
       "    }\n",
       "</style>\n",
       "<table border=\"1\" class=\"dataframe\">\n",
       "  <thead>\n",
       "    <tr style=\"text-align: right;\">\n",
       "      <th></th>\n",
       "      <th>stage</th>\n",
       "      <th>frequency</th>\n",
       "      <th>total_retweet</th>\n",
       "    </tr>\n",
       "  </thead>\n",
       "  <tbody>\n",
       "    <tr>\n",
       "      <th>0</th>\n",
       "      <td>pupper</td>\n",
       "      <td>190</td>\n",
       "      <td>311562</td>\n",
       "    </tr>\n",
       "    <tr>\n",
       "      <th>1</th>\n",
       "      <td>doggo</td>\n",
       "      <td>55</td>\n",
       "      <td>168053</td>\n",
       "    </tr>\n",
       "    <tr>\n",
       "      <th>2</th>\n",
       "      <td>puppo</td>\n",
       "      <td>17</td>\n",
       "      <td>45286</td>\n",
       "    </tr>\n",
       "    <tr>\n",
       "      <th>3</th>\n",
       "      <td>floofer</td>\n",
       "      <td>7</td>\n",
       "      <td>19300</td>\n",
       "    </tr>\n",
       "    <tr>\n",
       "      <th>4</th>\n",
       "      <td>doggo and pupper</td>\n",
       "      <td>3</td>\n",
       "      <td>8031</td>\n",
       "    </tr>\n",
       "  </tbody>\n",
       "</table>\n",
       "</div>"
      ],
      "text/plain": [
       "              stage  frequency  total_retweet\n",
       "0            pupper        190         311562\n",
       "1             doggo         55         168053\n",
       "2             puppo         17          45286\n",
       "3           floofer          7          19300\n",
       "4  doggo and pupper          3           8031"
      ]
     },
     "execution_count": 100,
     "metadata": {},
     "output_type": "execute_result"
    }
   ],
   "source": [
    "# Generating a new field \"total_retweet\"\n",
    "tot_retwt =[]\n",
    "for i in f['stage']:\n",
    "    t_r = df[df['stage'] == i]['retweet_count'].sum()\n",
    "    tot_retwt.append(t_r)\n",
    "\n",
    "f['total_retweet']=tot_retwt\n",
    "f.head()"
   ]
  },
  {
   "cell_type": "code",
   "execution_count": 101,
   "metadata": {
    "nbpresent": {
     "id": "b97c268f-4182-45ac-bb58-35d2eab076cc"
    }
   },
   "outputs": [
    {
     "data": {
      "text/html": [
       "<div>\n",
       "<style scoped>\n",
       "    .dataframe tbody tr th:only-of-type {\n",
       "        vertical-align: middle;\n",
       "    }\n",
       "\n",
       "    .dataframe tbody tr th {\n",
       "        vertical-align: top;\n",
       "    }\n",
       "\n",
       "    .dataframe thead th {\n",
       "        text-align: right;\n",
       "    }\n",
       "</style>\n",
       "<table border=\"1\" class=\"dataframe\">\n",
       "  <thead>\n",
       "    <tr style=\"text-align: right;\">\n",
       "      <th></th>\n",
       "      <th>stage</th>\n",
       "      <th>frequency</th>\n",
       "      <th>total_retweet</th>\n",
       "      <th>retweet_mean</th>\n",
       "    </tr>\n",
       "  </thead>\n",
       "  <tbody>\n",
       "    <tr>\n",
       "      <th>0</th>\n",
       "      <td>pupper</td>\n",
       "      <td>190</td>\n",
       "      <td>311562</td>\n",
       "      <td>1639</td>\n",
       "    </tr>\n",
       "    <tr>\n",
       "      <th>1</th>\n",
       "      <td>doggo</td>\n",
       "      <td>55</td>\n",
       "      <td>168053</td>\n",
       "      <td>3055</td>\n",
       "    </tr>\n",
       "    <tr>\n",
       "      <th>2</th>\n",
       "      <td>puppo</td>\n",
       "      <td>17</td>\n",
       "      <td>45286</td>\n",
       "      <td>2663</td>\n",
       "    </tr>\n",
       "    <tr>\n",
       "      <th>3</th>\n",
       "      <td>floofer</td>\n",
       "      <td>7</td>\n",
       "      <td>19300</td>\n",
       "      <td>2757</td>\n",
       "    </tr>\n",
       "    <tr>\n",
       "      <th>4</th>\n",
       "      <td>doggo and pupper</td>\n",
       "      <td>3</td>\n",
       "      <td>8031</td>\n",
       "      <td>2677</td>\n",
       "    </tr>\n",
       "  </tbody>\n",
       "</table>\n",
       "</div>"
      ],
      "text/plain": [
       "              stage  frequency  total_retweet  retweet_mean\n",
       "0            pupper        190         311562          1639\n",
       "1             doggo         55         168053          3055\n",
       "2             puppo         17          45286          2663\n",
       "3           floofer          7          19300          2757\n",
       "4  doggo and pupper          3           8031          2677"
      ]
     },
     "execution_count": 101,
     "metadata": {},
     "output_type": "execute_result"
    }
   ],
   "source": [
    "# Calculating the retweet mean\n",
    "f['retweet_mean']=f['total_retweet']//f['frequency']\n",
    "f.head()"
   ]
  },
  {
   "cell_type": "code",
   "execution_count": 102,
   "metadata": {
    "nbpresent": {
     "id": "8c65d77c-40f9-4abd-aed6-9cfbf35c3d51"
    },
    "scrolled": true
   },
   "outputs": [
    {
     "data": {
      "image/png": "[encoded data removed]",
      "text/plain": [
       "<matplotlib.figure.Figure at 0x7fa9f2445a90>"
      ]
     },
     "metadata": {},
     "output_type": "display_data"
    }
   ],
   "source": [
    "# Setting up the graph layout and design\n",
    "sns.set_style(\"whitegrid\")\n",
    "g = sns.barplot(x=\"stage\", y=\"retweet_mean\", data=f)\n",
    "g.set_ylabel('Retweet mean')\n",
    "\n",
    "# Setting the appropriate headers\n",
    "plt.title('Dog stage and Retweet')\n",
    "plt.xlabel('Stage')\n",
    "\n",
    "# Exporting the figure\n",
    "fig =g.get_figure()\n",
    "fig.savefig('/home/workspace/stages_and_retweets.png')"
   ]
  },
  {
   "cell_type": "markdown",
   "metadata": {},
   "source": [
    "It is pretty evident that the dog stages do not possess similar retweets averages,\n",
    "doggo count has an average superior to 3000 and pupper is only around 1500."
   ]
  },
  {
   "cell_type": "markdown",
   "metadata": {},
   "source": [
    "##### Visualizing Rating Vs Retweets"
   ]
  },
  {
   "cell_type": "code",
   "execution_count": 103,
   "metadata": {
    "nbpresent": {
     "id": "b1a2df38-748b-432b-bfd1-199da1a46791"
    }
   },
   "outputs": [],
   "source": [
    "# Generating a copy of the dataframe\n",
    "df_rating = df.copy()"
   ]
  },
  {
   "cell_type": "code",
   "execution_count": 104,
   "metadata": {
    "nbpresent": {
     "id": "2e8511de-1325-469e-ac11-7a9aa9c32914"
    }
   },
   "outputs": [],
   "source": [
    "# Calculating the rating proportion\n",
    "df_rating['rating']=df_rating['rating_numerator']/df_rating['rating_denominator']"
   ]
  },
  {
   "cell_type": "code",
   "execution_count": 105,
   "metadata": {
    "nbpresent": {
     "id": "9c5144e6-60cd-4e14-b8ee-b3af11ec366e"
    }
   },
   "outputs": [
    {
     "data": {
      "text/html": [
       "<div>\n",
       "<style scoped>\n",
       "    .dataframe tbody tr th:only-of-type {\n",
       "        vertical-align: middle;\n",
       "    }\n",
       "\n",
       "    .dataframe tbody tr th {\n",
       "        vertical-align: top;\n",
       "    }\n",
       "\n",
       "    .dataframe thead th {\n",
       "        text-align: right;\n",
       "    }\n",
       "</style>\n",
       "<table border=\"1\" class=\"dataframe\">\n",
       "  <thead>\n",
       "    <tr style=\"text-align: right;\">\n",
       "      <th></th>\n",
       "      <th>rating</th>\n",
       "      <th>frequency</th>\n",
       "    </tr>\n",
       "  </thead>\n",
       "  <tbody>\n",
       "    <tr>\n",
       "      <th>0</th>\n",
       "      <td>1.2</td>\n",
       "      <td>415</td>\n",
       "    </tr>\n",
       "    <tr>\n",
       "      <th>1</th>\n",
       "      <td>1.0</td>\n",
       "      <td>409</td>\n",
       "    </tr>\n",
       "    <tr>\n",
       "      <th>2</th>\n",
       "      <td>1.1</td>\n",
       "      <td>381</td>\n",
       "    </tr>\n",
       "    <tr>\n",
       "      <th>3</th>\n",
       "      <td>1.3</td>\n",
       "      <td>184</td>\n",
       "    </tr>\n",
       "    <tr>\n",
       "      <th>4</th>\n",
       "      <td>0.9</td>\n",
       "      <td>151</td>\n",
       "    </tr>\n",
       "  </tbody>\n",
       "</table>\n",
       "</div>"
      ],
      "text/plain": [
       "   rating  frequency\n",
       "0     1.2        415\n",
       "1     1.0        409\n",
       "2     1.1        381\n",
       "3     1.3        184\n",
       "4     0.9        151"
      ]
     },
     "execution_count": 105,
     "metadata": {},
     "output_type": "execute_result"
    }
   ],
   "source": [
    "# Generating a df with rating and frequency\n",
    "df_rating['rating'].value_counts()\n",
    "frequency = df_rating['rating'].value_counts().to_dict()\n",
    "f = pd.DataFrame(list(frequency.items()), columns=['rating', 'frequency'])\n",
    "f.head()"
   ]
  },
  {
   "cell_type": "code",
   "execution_count": 106,
   "metadata": {
    "nbpresent": {
     "id": "38510319-8c31-485f-ae3f-f8bea15732c5"
    }
   },
   "outputs": [
    {
     "data": {
      "text/html": [
       "<div>\n",
       "<style scoped>\n",
       "    .dataframe tbody tr th:only-of-type {\n",
       "        vertical-align: middle;\n",
       "    }\n",
       "\n",
       "    .dataframe tbody tr th {\n",
       "        vertical-align: top;\n",
       "    }\n",
       "\n",
       "    .dataframe thead th {\n",
       "        text-align: right;\n",
       "    }\n",
       "</style>\n",
       "<table border=\"1\" class=\"dataframe\">\n",
       "  <thead>\n",
       "    <tr style=\"text-align: right;\">\n",
       "      <th></th>\n",
       "      <th>rating</th>\n",
       "      <th>frequency</th>\n",
       "      <th>total_retweet</th>\n",
       "      <th>retweet_mean</th>\n",
       "    </tr>\n",
       "  </thead>\n",
       "  <tbody>\n",
       "    <tr>\n",
       "      <th>0</th>\n",
       "      <td>1.2</td>\n",
       "      <td>415</td>\n",
       "      <td>986770</td>\n",
       "      <td>2377</td>\n",
       "    </tr>\n",
       "    <tr>\n",
       "      <th>1</th>\n",
       "      <td>1.0</td>\n",
       "      <td>409</td>\n",
       "      <td>472879</td>\n",
       "      <td>1156</td>\n",
       "    </tr>\n",
       "    <tr>\n",
       "      <th>2</th>\n",
       "      <td>1.1</td>\n",
       "      <td>381</td>\n",
       "      <td>668064</td>\n",
       "      <td>1753</td>\n",
       "    </tr>\n",
       "    <tr>\n",
       "      <th>3</th>\n",
       "      <td>1.3</td>\n",
       "      <td>184</td>\n",
       "      <td>632188</td>\n",
       "      <td>3435</td>\n",
       "    </tr>\n",
       "    <tr>\n",
       "      <th>4</th>\n",
       "      <td>0.9</td>\n",
       "      <td>151</td>\n",
       "      <td>118582</td>\n",
       "      <td>785</td>\n",
       "    </tr>\n",
       "  </tbody>\n",
       "</table>\n",
       "</div>"
      ],
      "text/plain": [
       "   rating  frequency  total_retweet  retweet_mean\n",
       "0     1.2        415         986770          2377\n",
       "1     1.0        409         472879          1156\n",
       "2     1.1        381         668064          1753\n",
       "3     1.3        184         632188          3435\n",
       "4     0.9        151         118582           785"
      ]
     },
     "execution_count": 106,
     "metadata": {},
     "output_type": "execute_result"
    }
   ],
   "source": [
    "# Calculating the totals for Retweet\n",
    "total_retweet =[]\n",
    "for i in f['rating']:\n",
    "    t_r = df_rating[df_rating['rating'] == i]['retweet_count'].sum()\n",
    "    total_retweet.append(t_r)\n",
    "\n",
    "f['total_retweet']=total_retweet\n",
    "f.head()\n",
    "\n",
    "# Calculating the mean for Retweets\n",
    "f['retweet_mean']=f['total_retweet']//f['frequency']\n",
    "f.head()"
   ]
  },
  {
   "cell_type": "code",
   "execution_count": 107,
   "metadata": {
    "nbpresent": {
     "id": "9de51e3b-c881-480c-bef5-7d08c96c1881"
    }
   },
   "outputs": [
    {
     "data": {
      "image/png": "[encoded data removed]",
      "text/plain": [
       "<matplotlib.figure.Figure at 0x7fa9f244efd0>"
      ]
     },
     "metadata": {},
     "output_type": "display_data"
    }
   ],
   "source": [
    "# Generating a graphical plot for the data\n",
    "sns.set(rc={'figure.figsize':(17,12)})\n",
    "\n",
    "# Setting up the graph layout and design\n",
    "sns.set_style(\"whitegrid\")\n",
    "g = sns.barplot(x=\"rating\", y=\"retweet_mean\", data=f)\n",
    "g.set_ylabel('Retweet mean')\n",
    "\n",
    "# Setting the appropriate headers\n",
    "plt.title('Rating ratio & retweets')\n",
    "plt.xlabel('Rating ratio')\n",
    "\n",
    "# Exporting the figure\n",
    "fig =g.get_figure()\n",
    "fig.savefig('/home/workspace/rating_and_retweets.png')"
   ]
  }
 ],
 "metadata": {
  "kernelspec": {
   "display_name": "Python 3",
   "language": "python",
   "name": "python3"
  },
  "language_info": {
   "codemirror_mode": {
    "name": "ipython",
    "version": 3
   },
   "file_extension": ".py",
   "mimetype": "text/x-python",
   "name": "python",
   "nbconvert_exporter": "python",
   "pygments_lexer": "ipython3",
   "version": "3.6.3"
  }
 },
 "nbformat": 4,
 "nbformat_minor": 2
}
